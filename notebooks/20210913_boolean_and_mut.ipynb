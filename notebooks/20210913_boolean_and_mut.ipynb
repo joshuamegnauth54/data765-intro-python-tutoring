{
 "cells": [
  {
   "cell_type": "markdown",
   "id": "dc8beb44",
   "metadata": {},
   "source": [
    "# Boolean logic and mutability\n",
    "### Data 765 tutoring; September 13th 2021\n",
    "---\n",
    "# What is REPL?\n",
    "\n",
    "[REPL (read-eval-print-loop)](https://en.wikipedia.org/wiki/Read%E2%80%93eval%E2%80%93print_loop) is a programming paradigm that is generally available for interpreted languages such as Python, shell scripting, JavaScript, Ruby, Haskell (interpreted as well as compiled) et cetera.\n",
    "\n",
    "I like to think of REPL as _interactively_ and _iteratively_ programming rather than writing out source code in structured files. REPL involves directly programming in a Python shell such as the [base interpreter](https://docs.python.org/3/tutorial/interpreter.html) or the augmented [IPython](https://ipython.org/). Lines of code are executed immediately rather than writing and running a full script.\n",
    "\n",
    "Jupyter is also a common REPL tool as you have access to nice IPython code blocks without using the shell directly.\n",
    "\n",
    "Coding directly in a shell has an air of impermanence as you worry less about the quality of your output; you're not writing a program to be reused that must be idiomatic and proper. Thus, as a paradigm, REPL excels at:\n",
    "\n",
    "* easing practing new concepts or features\n",
    "* playing around with new libraries\n",
    "* data analysis, especially E.D.A. or building preliminary models\n",
    "\n",
    "REPL is also great for one off tasks without the hassle of writing a script.\n",
    "\n",
    "You may write a few lines of code here and there or test out a new feature or a concept you're struggling with. For example, maybe you're practicing slice notation:"
   ]
  },
  {
   "cell_type": "code",
   "execution_count": 1,
   "id": "ef5b5002",
   "metadata": {},
   "outputs": [
    {
     "name": "stdout",
     "output_type": "stream",
     "text": [
      "Cats\n",
      "!!!\n"
     ]
    }
   ],
   "source": [
    "love_cats = \"Cats are perfect!!!\"\n",
    "\n",
    "print(love_cats[:4])\n",
    "print(love_cats[-3:])"
   ]
  },
  {
   "cell_type": "markdown",
   "id": "14e6122a",
   "metadata": {},
   "source": [
    "Spinning up a Python interpreter to play around with new libraries is often useful depending on how much setup is required. [NumPy] is fairly easy to use without much work as are most math and data libraries.\n",
    "\n",
    "GUI toolkits, such as the Python bindings to [GTK](https://www.gtk.org/) or [Qt](https://www.qt.io/), need more initalization, so they're harder to use from a REPL standpoint.\n",
    "\n",
    "REPL is great for brief tasks in the same manner as one would use Bash (or any other shell). Here's an example of pulling a few reviews from the Steam A.P.I. for _Hyper Light Drifter_, an indie game. The reviews are saved into a file for further use.\n",
    "\n",
    "N.b. my precluding comments is intentional since writing the code should be quick and dirty."
   ]
  },
  {
   "cell_type": "code",
   "execution_count": 2,
   "id": "a9a03943",
   "metadata": {},
   "outputs": [],
   "source": [
    "import requests\n",
    "import json\n",
    "\n",
    "payload = {\"json\": 1,\n",
    "           \"purchase_type\": \"all\",\n",
    "           \"num_per_page\": 100,\n",
    "           \"filter\": \"updated\"\n",
    "          }\n",
    "\n",
    "response = requests.get(\"https://store.steampowered.com/appreviews/257850\",\n",
    "                        params=payload)\n",
    "\n",
    "response.raise_for_status()\n",
    "\n",
    "with open(\"hyper_light_drifter.json\", 'w') as f:\n",
    "    json.dump(response.json()[\"reviews\"], f)"
   ]
  },
  {
   "cell_type": "markdown",
   "id": "ad6b7996",
   "metadata": {},
   "source": [
    "E.D.A. is a perfect use case for REPL since we're exploring our data for initial insights rather than writing our final code. REPL is great for quick and dirty plots. For example, we can load our data into a [pandas](https://pandas.pydata.org/) DataFrame to calculate some quick metrics."
   ]
  },
  {
   "cell_type": "code",
   "execution_count": 3,
   "id": "c9029b35",
   "metadata": {},
   "outputs": [
    {
     "data": {
      "text/html": [
       "<div>\n",
       "<style scoped>\n",
       "    .dataframe tbody tr th:only-of-type {\n",
       "        vertical-align: middle;\n",
       "    }\n",
       "\n",
       "    .dataframe tbody tr th {\n",
       "        vertical-align: top;\n",
       "    }\n",
       "\n",
       "    .dataframe thead th {\n",
       "        text-align: right;\n",
       "    }\n",
       "</style>\n",
       "<table border=\"1\" class=\"dataframe\">\n",
       "  <thead>\n",
       "    <tr style=\"text-align: right;\">\n",
       "      <th></th>\n",
       "      <th>recommendationid</th>\n",
       "      <th>author</th>\n",
       "      <th>language</th>\n",
       "      <th>review</th>\n",
       "      <th>timestamp_updated</th>\n",
       "      <th>voted_up</th>\n",
       "      <th>votes_up</th>\n",
       "      <th>votes_funny</th>\n",
       "      <th>weighted_vote_score</th>\n",
       "      <th>comment_count</th>\n",
       "      <th>steam_purchase</th>\n",
       "      <th>received_for_free</th>\n",
       "      <th>written_during_early_access</th>\n",
       "    </tr>\n",
       "    <tr>\n",
       "      <th>timestamp_created</th>\n",
       "      <th></th>\n",
       "      <th></th>\n",
       "      <th></th>\n",
       "      <th></th>\n",
       "      <th></th>\n",
       "      <th></th>\n",
       "      <th></th>\n",
       "      <th></th>\n",
       "      <th></th>\n",
       "      <th></th>\n",
       "      <th></th>\n",
       "      <th></th>\n",
       "      <th></th>\n",
       "    </tr>\n",
       "  </thead>\n",
       "  <tbody>\n",
       "    <tr>\n",
       "      <th>2021-09-13 06:08:35</th>\n",
       "      <td>99273973</td>\n",
       "      <td>{'steamid': '76561198069176947', 'num_games_ow...</td>\n",
       "      <td>english</td>\n",
       "      <td>dank af</td>\n",
       "      <td>2021-09-13 06:08:35</td>\n",
       "      <td>Recommended</td>\n",
       "      <td>0</td>\n",
       "      <td>0</td>\n",
       "      <td>0.000000</td>\n",
       "      <td>0</td>\n",
       "      <td>True</td>\n",
       "      <td>False</td>\n",
       "      <td>False</td>\n",
       "    </tr>\n",
       "    <tr>\n",
       "      <th>2021-09-12 23:51:40</th>\n",
       "      <td>99261677</td>\n",
       "      <td>{'steamid': '76561198839395768', 'num_games_ow...</td>\n",
       "      <td>english</td>\n",
       "      <td>highly atmospheric and beautiful. definitely w...</td>\n",
       "      <td>2021-09-12 23:51:40</td>\n",
       "      <td>Recommended</td>\n",
       "      <td>0</td>\n",
       "      <td>0</td>\n",
       "      <td>0.000000</td>\n",
       "      <td>0</td>\n",
       "      <td>False</td>\n",
       "      <td>False</td>\n",
       "      <td>False</td>\n",
       "    </tr>\n",
       "    <tr>\n",
       "      <th>2021-09-12 05:58:44</th>\n",
       "      <td>99210378</td>\n",
       "      <td>{'steamid': '76561198070812011', 'num_games_ow...</td>\n",
       "      <td>english</td>\n",
       "      <td>Such poor level and enemy design I had to stop...</td>\n",
       "      <td>2021-09-12 05:58:44</td>\n",
       "      <td>Not recommended</td>\n",
       "      <td>1</td>\n",
       "      <td>0</td>\n",
       "      <td>0.467478</td>\n",
       "      <td>0</td>\n",
       "      <td>False</td>\n",
       "      <td>False</td>\n",
       "      <td>False</td>\n",
       "    </tr>\n",
       "    <tr>\n",
       "      <th>2021-09-11 22:17:46</th>\n",
       "      <td>99192294</td>\n",
       "      <td>{'steamid': '76561198844275926', 'num_games_ow...</td>\n",
       "      <td>english</td>\n",
       "      <td>[h1] A Masterpiece [/h1]\\n\\nHyper Light Drifte...</td>\n",
       "      <td>2021-09-11 22:17:46</td>\n",
       "      <td>Recommended</td>\n",
       "      <td>0</td>\n",
       "      <td>0</td>\n",
       "      <td>0.000000</td>\n",
       "      <td>0</td>\n",
       "      <td>True</td>\n",
       "      <td>False</td>\n",
       "      <td>False</td>\n",
       "    </tr>\n",
       "    <tr>\n",
       "      <th>2021-09-11 20:19:35</th>\n",
       "      <td>99186952</td>\n",
       "      <td>{'steamid': '76561198373403121', 'num_games_ow...</td>\n",
       "      <td>english</td>\n",
       "      <td>One of the best games out there in my opinion....</td>\n",
       "      <td>2021-09-11 20:19:35</td>\n",
       "      <td>Recommended</td>\n",
       "      <td>0</td>\n",
       "      <td>0</td>\n",
       "      <td>0.000000</td>\n",
       "      <td>0</td>\n",
       "      <td>True</td>\n",
       "      <td>False</td>\n",
       "      <td>False</td>\n",
       "    </tr>\n",
       "  </tbody>\n",
       "</table>\n",
       "</div>"
      ],
      "text/plain": [
       "                     recommendationid  \\\n",
       "timestamp_created                       \n",
       "2021-09-13 06:08:35          99273973   \n",
       "2021-09-12 23:51:40          99261677   \n",
       "2021-09-12 05:58:44          99210378   \n",
       "2021-09-11 22:17:46          99192294   \n",
       "2021-09-11 20:19:35          99186952   \n",
       "\n",
       "                                                                author  \\\n",
       "timestamp_created                                                        \n",
       "2021-09-13 06:08:35  {'steamid': '76561198069176947', 'num_games_ow...   \n",
       "2021-09-12 23:51:40  {'steamid': '76561198839395768', 'num_games_ow...   \n",
       "2021-09-12 05:58:44  {'steamid': '76561198070812011', 'num_games_ow...   \n",
       "2021-09-11 22:17:46  {'steamid': '76561198844275926', 'num_games_ow...   \n",
       "2021-09-11 20:19:35  {'steamid': '76561198373403121', 'num_games_ow...   \n",
       "\n",
       "                    language  \\\n",
       "timestamp_created              \n",
       "2021-09-13 06:08:35  english   \n",
       "2021-09-12 23:51:40  english   \n",
       "2021-09-12 05:58:44  english   \n",
       "2021-09-11 22:17:46  english   \n",
       "2021-09-11 20:19:35  english   \n",
       "\n",
       "                                                                review  \\\n",
       "timestamp_created                                                        \n",
       "2021-09-13 06:08:35                                            dank af   \n",
       "2021-09-12 23:51:40  highly atmospheric and beautiful. definitely w...   \n",
       "2021-09-12 05:58:44  Such poor level and enemy design I had to stop...   \n",
       "2021-09-11 22:17:46  [h1] A Masterpiece [/h1]\\n\\nHyper Light Drifte...   \n",
       "2021-09-11 20:19:35  One of the best games out there in my opinion....   \n",
       "\n",
       "                      timestamp_updated         voted_up  votes_up  \\\n",
       "timestamp_created                                                    \n",
       "2021-09-13 06:08:35 2021-09-13 06:08:35      Recommended         0   \n",
       "2021-09-12 23:51:40 2021-09-12 23:51:40      Recommended         0   \n",
       "2021-09-12 05:58:44 2021-09-12 05:58:44  Not recommended         1   \n",
       "2021-09-11 22:17:46 2021-09-11 22:17:46      Recommended         0   \n",
       "2021-09-11 20:19:35 2021-09-11 20:19:35      Recommended         0   \n",
       "\n",
       "                     votes_funny  weighted_vote_score  comment_count  \\\n",
       "timestamp_created                                                      \n",
       "2021-09-13 06:08:35            0             0.000000              0   \n",
       "2021-09-12 23:51:40            0             0.000000              0   \n",
       "2021-09-12 05:58:44            0             0.467478              0   \n",
       "2021-09-11 22:17:46            0             0.000000              0   \n",
       "2021-09-11 20:19:35            0             0.000000              0   \n",
       "\n",
       "                     steam_purchase  received_for_free  \\\n",
       "timestamp_created                                        \n",
       "2021-09-13 06:08:35            True              False   \n",
       "2021-09-12 23:51:40           False              False   \n",
       "2021-09-12 05:58:44           False              False   \n",
       "2021-09-11 22:17:46            True              False   \n",
       "2021-09-11 20:19:35            True              False   \n",
       "\n",
       "                     written_during_early_access  \n",
       "timestamp_created                                 \n",
       "2021-09-13 06:08:35                        False  \n",
       "2021-09-12 23:51:40                        False  \n",
       "2021-09-12 05:58:44                        False  \n",
       "2021-09-11 22:17:46                        False  \n",
       "2021-09-11 20:19:35                        False  "
      ]
     },
     "execution_count": 3,
     "metadata": {},
     "output_type": "execute_result"
    }
   ],
   "source": [
    "import pandas as pd\n",
    "\n",
    "hld_reviews = pd.read_json(\"hyper_light_drifter.json\")\n",
    "hld_reviews.set_index(\"timestamp_created\", inplace=True)\n",
    "hld_reviews.replace({\"voted_up\": {True: \"Recommended\",\n",
    "                                  False: \"Not recommended\"}\n",
    "                    },\n",
    "                   inplace=True)\n",
    "hld_reviews.voted_up = hld_reviews.voted_up.astype(\"category\")\n",
    "hld_reviews.head()"
   ]
  },
  {
   "cell_type": "markdown",
   "id": "8759f9dc",
   "metadata": {},
   "source": [
    "And a quick plot...\n",
    "\n",
    "Without labels! Which is a sin of course."
   ]
  },
  {
   "cell_type": "code",
   "execution_count": 4,
   "id": "6c955393",
   "metadata": {},
   "outputs": [
    {
     "data": {
      "text/plain": [
       "<BarContainer object of 2 artists>"
      ]
     },
     "execution_count": 4,
     "metadata": {},
     "output_type": "execute_result"
    },
    {
     "data": {
      "image/png": "[encoded data removed]",
      "text/plain": [
       "<Figure size 432x288 with 1 Axes>"
      ]
     },
     "metadata": {
      "needs_background": "light"
     },
     "output_type": "display_data"
    }
   ],
   "source": [
    "%matplotlib inline\n",
    "import matplotlib.pyplot as plt\n",
    "\n",
    "hld_recommends = hld_reviews.voted_up.value_counts()\n",
    "plt.bar(hld_recommends.index, hld_recommends)"
   ]
  },
  {
   "cell_type": "markdown",
   "id": "17acea32",
   "metadata": {},
   "source": [
    "# Boolean logic questions\n",
    "\n",
    "Boolean logic is integral to programming because control flow is essentially impossible without it. Let's try to understand it with a plain English example first.\n",
    "\n",
    "Say we have a random human ordering a smoothie with the contrived sentence:\n",
    "\n",
    "**\"Do you have a strawberry banana OR peach mango OR mixed berry OR pineapple (et cetera...) smoothie?\"**\n",
    "\n",
    "To which the wonderful smoothie chef replies:\n",
    "\n",
    "**\"I have peach mango and mixed berry smoothies.\"**\n",
    "\n",
    "**Question:** Would this statement evaluate to \"yes\" (True) or \"no\" (False) and why?\n",
    "\n",
    "**Question:** Would the answer change if the shop owned only had strawberry banana? Why or why not?\n",
    "\n",
    "We can represent this in Python:"
   ]
  },
  {
   "cell_type": "code",
   "execution_count": null,
   "id": "96b818a2",
   "metadata": {},
   "outputs": [],
   "source": [
    "strawberry_banana = False\n",
    "peach_mango = True\n",
    "mixed_berry = True\n",
    "pineapple = False\n",
    "\n",
    "(strawberry_banana or peach_mango or mixed_berry or pineapple)"
   ]
  },
  {
   "cell_type": "markdown",
   "id": "b95bfeb6",
   "metadata": {},
   "source": [
    "Run the cell **after** attempting to answer the question.\n",
    "\n",
    "**Question:** Would the answer change if the smoothie patron wanted **every** flavor?\n",
    "\n",
    "In other words: **\"Do you have strawberry banana AND peach mango AND mixed berry AND pineapple (et cetera...) smoothies?\"**\n",
    "\n",
    "Again in Python:"
   ]
  },
  {
   "cell_type": "code",
   "execution_count": null,
   "id": "c58f70e9",
   "metadata": {},
   "outputs": [],
   "source": [
    "(strawberry_banana and peach_mango and mixed_berry and pineapple)"
   ]
  },
  {
   "cell_type": "markdown",
   "id": "5f113b1a",
   "metadata": {},
   "source": [
    "This represents an important concept in boolean logic. `or` is short circuiting so that if one statement is true then the entire statement is true. `and` requires the entire statement to be truthy.\n",
    "\n",
    "## Examples\n",
    "Evaluate the following."
   ]
  },
  {
   "cell_type": "code",
   "execution_count": null,
   "id": "ec7c5c7f",
   "metadata": {},
   "outputs": [],
   "source": [
    "True or False"
   ]
  },
  {
   "cell_type": "code",
   "execution_count": null,
   "id": "b3fee3d7",
   "metadata": {},
   "outputs": [],
   "source": [
    "True and False"
   ]
  },
  {
   "cell_type": "code",
   "execution_count": null,
   "id": "83f22c90",
   "metadata": {},
   "outputs": [],
   "source": [
    "True and True"
   ]
  },
  {
   "cell_type": "code",
   "execution_count": null,
   "id": "485ce4c7",
   "metadata": {},
   "outputs": [],
   "source": [
    "False and False"
   ]
  },
  {
   "cell_type": "code",
   "execution_count": null,
   "id": "728932a6",
   "metadata": {},
   "outputs": [],
   "source": [
    "False or True or False or False or False or False or False or False or False or False or False or False or False or False or False"
   ]
  },
  {
   "cell_type": "code",
   "execution_count": null,
   "id": "64576339",
   "metadata": {},
   "outputs": [],
   "source": [
    "(True or False) or (True and False)"
   ]
  },
  {
   "cell_type": "code",
   "execution_count": null,
   "id": "2158efe2",
   "metadata": {},
   "outputs": [],
   "source": [
    "(True and True) and (False or (True and False))"
   ]
  },
  {
   "cell_type": "code",
   "execution_count": null,
   "id": "2ecbd8f0",
   "metadata": {},
   "outputs": [],
   "source": [
    "True and (False or True)"
   ]
  },
  {
   "cell_type": "markdown",
   "id": "130a2e7a",
   "metadata": {},
   "source": [
    "# Mutability\n",
    "\n",
    "A Python object is immutable when we're prevented from changing its internal state.\n",
    "\n",
    "This sounds really philosophical and scientific, but you generally just need to remember that **composite types are usually mutable and \"primitive\" types are immutable.**\n",
    "\n",
    "Primitive types are numbers of all types and strings. Some composite types are immutable, like frozen sets. You'll usually know via the documentation.\n",
    "\n",
    "Numbers are immutable. If we add two integers:"
   ]
  },
  {
   "cell_type": "code",
   "execution_count": 5,
   "id": "3c9e54e3",
   "metadata": {},
   "outputs": [
    {
     "data": {
      "text/plain": [
       "42"
      ]
     },
     "execution_count": 5,
     "metadata": {},
     "output_type": "execute_result"
    }
   ],
   "source": [
    "14 + 28"
   ]
  },
  {
   "cell_type": "markdown",
   "id": "5113a544",
   "metadata": {},
   "source": [
    "Python returns a new integer which is pretty logical when you think about it. The number `14` isn't changing internally through addition. On the other hand, appending an item to a `list` is mutating the object's state."
   ]
  },
  {
   "cell_type": "code",
   "execution_count": 6,
   "id": "dde692e1",
   "metadata": {},
   "outputs": [],
   "source": [
    "pokemon = [\"Espeon\"]\n",
    "pokemon.append(\"Drampa\")"
   ]
  },
  {
   "cell_type": "markdown",
   "id": "446e3a73",
   "metadata": {},
   "source": [
    "Strings are immutable...because...Python wants them to be immutable. The answer isn't as neat as the integers example, but essentially strings are immutable because they can be cached or accessed safely across threads.\n",
    "\n",
    "Thus, like integers, new strings are returned after string operations."
   ]
  },
  {
   "cell_type": "code",
   "execution_count": 7,
   "id": "3658a288",
   "metadata": {},
   "outputs": [
    {
     "data": {
      "text/plain": [
       "'I like cats!!!!!!!!!'"
      ]
     },
     "execution_count": 7,
     "metadata": {},
     "output_type": "execute_result"
    }
   ],
   "source": [
    "cats = \"I like\"\n",
    "cats += \" cats!!!!!!!!!\"\n",
    "cats"
   ]
  },
  {
   "cell_type": "markdown",
   "id": "120ca140",
   "metadata": {},
   "source": [
    "Similarly, string methods return a new string as well."
   ]
  },
  {
   "cell_type": "code",
   "execution_count": 8,
   "id": "d19d5827",
   "metadata": {},
   "outputs": [
    {
     "name": "stdout",
     "output_type": "stream",
     "text": [
      "Original: I like cats!!!!!!!!!\n",
      "Edited: I like mats!!!!!!!!!\n"
     ]
    }
   ],
   "source": [
    "cats_two = cats.replace('c', 'm')\n",
    "\n",
    "print(f\"Original: {cats}\\nEdited: {cats_two}\")"
   ]
  },
  {
   "cell_type": "markdown",
   "id": "8c94949b",
   "metadata": {},
   "source": [
    "Your own types may be mutable or immutable (to an extent) depending on your public A.P.I. However, classes are out of the scope of this mini-lecture!"
   ]
  }
 ],
 "metadata": {
  "kernelspec": {
   "display_name": "Python 3",
   "language": "python",
   "name": "python3"
  },
  "language_info": {
   "codemirror_mode": {
    "name": "ipython",
    "version": 3
   },
   "file_extension": ".py",
   "mimetype": "text/x-python",
   "name": "python",
   "nbconvert_exporter": "python",
   "pygments_lexer": "ipython3",
   "version": "3.7.10"
  }
 },
 "nbformat": 4,
 "nbformat_minor": 5
}
