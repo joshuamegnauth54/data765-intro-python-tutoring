{
 "cells": [
  {
   "cell_type": "markdown",
   "metadata": {},
   "source": [
    "Functions are reusable blocks of codes. You've been using built-in functions throughout the course, such as `print()`. I wrote examples of functions in other Notebooks.\n",
    "\n",
    "Like iteration, functions are integral to your scripts and programs.\n",
    "\n",
    "Functions vastly increase the readability and maintainability of code. A well tested function reduces the amount of code that you have to write. Functions also provide a single point to test and repair. For example, fixing or improving a function causes those changes to reverberate wherever it is called.\n",
    "\n",
    "Another benefit is that functions separate logic into discrete blocks that reduce a programmer's cognitive load. Reading well defined functions is easier than parsing hundreds of lines all at once.\n",
    "\n",
    "**D.R.Y.** or Don't Repeat Yourself is a primary impetus for writing functions. If you find yourself copying and pasting blocks of code or writing similar lines of code, then you may likely refactor those into a function.\n",
    "\n",
    "# Basic functions\n",
    "Let's write a function to calculate the mean of a `list`!\n",
    "\n",
    "As a sidenote, I don't recommend rolling your own mean function over using the built in [statistics](https://docs.python.org/3/library/statistics.html) module or [NumPy](https://numpy.org/)."
   ]
  },
  {
   "cell_type": "code",
   "execution_count": 1,
   "metadata": {},
   "outputs": [],
   "source": [
    "def mean(a):\n",
    "    \"\"\"Calculate the arithmetic mean of an iterable.\n",
    "\n",
    "    Parameters\n",
    "    ----------\n",
    "    a: Iterable\n",
    "        An Iterable of numbers.\n",
    "\n",
    "    Returns\n",
    "    -------\n",
    "    Mean of a as an integer or float.\n",
    "    \"\"\"\n",
    "    sum_a = 0\n",
    "\n",
    "    for x in a:\n",
    "        sum_a += x\n",
    "    \n",
    "    return sum_a/len(a)"
   ]
  },
  {
   "cell_type": "markdown",
   "metadata": {},
   "source": [
    "N.b., again: I also don't recommend writing a mean function using a `for` loop. But you shouldn't forget `for` loops, so I'll ensure you can't escape them!\n",
    "\n",
    "This is more succinct (and still worse than using NumPy or the statistics module):"
   ]
  },
  {
   "cell_type": "code",
   "execution_count": null,
   "metadata": {},
   "outputs": [],
   "source": [
    "def better_mean(a):\n",
    "    \"\"\"Like mean(a) but BETTER!\"\"\"\n",
    "    return sum(a)/len(a)"
   ]
  },
  {
   "cell_type": "markdown",
   "metadata": {},
   "source": [
    "Functions may take zero or more parameters. `mean()` takes one parameter, `a`, which is the array for which to calculate the mean. Something that is passed into a function is known as an argument.\n",
    "\n",
    "Parameters are scoped within a function. The parameters declared in a function signatures are valid within the function and can be used in the code block that defines the function.\n",
    "\n",
    "Thus:"
   ]
  },
  {
   "cell_type": "code",
   "execution_count": 2,
   "metadata": {},
   "outputs": [
    {
     "output_type": "stream",
     "name": "stdout",
     "text": [
      "5.30213784849192\n"
     ]
    }
   ],
   "source": [
    "import random\n",
    "\n",
    "random_numbers = [random.gauss(5., 10.) for _ in range(1000)]\n",
    "x_bar = mean(random_numbers)\n",
    "print(x_bar)"
   ]
  },
  {
   "cell_type": "markdown",
   "metadata": {},
   "source": [
    "`random_numbers` is the argument passed into `mean()`. That argument is passed into the parameter `a`. Argument and parameter are often interchangable colloquially, so you don't need to memorize the exact distinction.\n",
    "\n",
    "Python functions that don't take parameters or have defaults for every argument (more on that later) are called as you would expect: `f()`. "
   ]
  },
  {
   "cell_type": "code",
   "execution_count": 3,
   "metadata": {},
   "outputs": [
    {
     "output_type": "stream",
     "name": "stdout",
     "text": [
      "It is October 11, 2021 (at the time of running my code at least).\n"
     ]
    }
   ],
   "source": [
    "from datetime import datetime, timedelta\n",
    "\n",
    "now = datetime.now().strftime(\"%B %d, %Y\")\n",
    "\n",
    "print(f\"It is {now} (at the time of running my code at least).\")"
   ]
  },
  {
   "cell_type": "markdown",
   "metadata": {},
   "source": [
    "`datetime.now()` doesn't have any parameters. Declaring a function without parameters also looks as you would expect."
   ]
  },
  {
   "cell_type": "code",
   "execution_count": 4,
   "metadata": {},
   "outputs": [
    {
     "output_type": "stream",
     "name": "stdout",
     "text": [
      "And yesterday was Sunday, October 10.\n"
     ]
    }
   ],
   "source": [
    "def yesterday():\n",
    "    return datetime.now() - timedelta(days=1)\n",
    "\n",
    "yesterday_f = yesterday().strftime(\"%A, %B %d\")\n",
    "\n",
    "print(f\"And yesterday was {yesterday_f}.\")"
   ]
  },
  {
   "cell_type": "markdown",
   "metadata": {},
   "source": [
    "**Questions:**\n",
    "1. What happens if we remove `name` from the function declaration below?"
   ]
  },
  {
   "cell_type": "code",
   "execution_count": null,
   "metadata": {},
   "outputs": [],
   "source": [
    "def say_hello(name):\n",
    "    print(f\"Hi {name}!!\")\n",
    "\n",
    "# Why doesn't this work?\n",
    "def say_hello():\n",
    "    print(f\"Hi {name}!!\")"
   ]
  },
  {
   "cell_type": "markdown",
   "metadata": {},
   "source": [
    "# Default arguments\n",
    "\n",
    "Default arguments allow programmers to provide reasonable defaults for their functions. A function may have many parameters to custom execution. [matplotlib](https://matplotlib.org/) is a plotting and graphics library. Its classes and functions tend to have _tons_ of parameters to customize calls. Take a look at [some of the functions here](https://matplotlib.org/stable/api/_as_gen/matplotlib.pyplot.html#module-matplotlib.pyplot) for examples.\n",
    "\n",
    "We'll look at the [scatter](https://matplotlib.org/stable/api/_as_gen/matplotlib.axes.Axes.scatter.html#matplotlib.axes.Axes.scatter) function as a demonstration.\n",
    "\n",
    "A scatter plot in _matplotlib_ requires two arrays of the `x` and `y` pairs to plot. Beyond that, the size, point color, edge color, color map, alpha, and other parameters may be set.\n",
    "\n",
    "So, think about it: would you really want to pass an argument for each parameter every time you need a simple scatter plot? **NO. AHH!** 😱\n",
    "\n",
    "In order to prevent programmers from going totally nuts, the _matplotlib_ sages wisely provided default arguments for every parameter except `x` and `y`.\n",
    "\n",
    "Default arguments make certain parameters optional. Positional arguments are mandatory. Thus, in the `scatter()` function linked above, you _always_ have to pass `x` and `y` but can pass the other arguments as necessary.\n",
    "\n",
    "Now let's take a look at a few examples."
   ]
  },
  {
   "cell_type": "code",
   "execution_count": 5,
   "metadata": {},
   "outputs": [],
   "source": [
    "from faker import Faker\n",
    "\n",
    "def generate_names(amount=2):\n",
    "    \"\"\"Generate random names using Faker.\n",
    "\n",
    "    Parameters\n",
    "    ----------\n",
    "    amount: int\n",
    "        Number of fake names to generate.\n",
    "    \n",
    "    Returns\n",
    "    -------\n",
    "    A list[str] of random names.\n",
    "    \"\"\"\n",
    "    fake = Faker()\n",
    "    return [fake.name() for _ in range(amount)]\n",
    "\n",
    "def random_person(people, n=1):\n",
    "    \"\"\"Return n random people.\n",
    "\n",
    "    Parameters\n",
    "    ----------\n",
    "    people: list[str]\n",
    "        A list or iterable of people.\n",
    "    n: int\n",
    "        Amount of people to return.\n",
    "    \n",
    "    Returns\n",
    "    -------\n",
    "    A list[str] of people.\n",
    "    \"\"\"\n",
    "    return [random.choice(people) for _ in range(n)]\n",
    "\n",
    "def random_groups(people, groups=2):\n",
    "    \"\"\"Return people separated into groups.\n",
    "\n",
    "    Parameters\n",
    "    ----------\n",
    "    people: list[str]\n",
    "        A list or iterable of people.\n",
    "    groups: int\n",
    "        Amount of groups.\n",
    "\n",
    "    Returns\n",
    "    -------\n",
    "    List of list of groups of people. list[list[str]]\n",
    "    \"\"\"\n",
    "    length = len(people)\n",
    "    # Shadowing, not mutation\n",
    "    # Shuffle would mutate\n",
    "    people = random.sample(people, length)\n",
    "    return [people[i:i + groups] for i in range(0, length, groups)]"
   ]
  },
  {
   "cell_type": "markdown",
   "metadata": {},
   "source": [
    "The functions above all have reasonable defaults. `generate_names()` returns realistic, localized names using [Faker](https://faker.readthedocs.io/en/master/); the function defaults to two names. We can call it by passing in a number or without arguments to use the default."
   ]
  },
  {
   "cell_type": "code",
   "execution_count": 6,
   "metadata": {},
   "outputs": [
    {
     "output_type": "stream",
     "name": "stdout",
     "text": [
      "Two names via default argument: ['Michael Costa', 'Travis Gonzalez MD']\nFive names via specifically passing 5 to 'amount': ['Hannah Faulkner', 'David Lewis', 'Joseph Obrien', 'Kyle Rice', 'Emily Lambert']\n"
     ]
    }
   ],
   "source": [
    "# Generates two names\n",
    "names = generate_names()\n",
    "print(f\"Two names via default argument: {names}\")\n",
    "\n",
    "# Generates five names by specifically using the keyword argument.\n",
    "names = generate_names(amount=5)\n",
    "print(f\"Five names via specifically passing 5 to 'amount': {names}\")\n",
    "\n",
    "# Generates 11 names by passing 11 by position.\n",
    "names = generate_names(11)"
   ]
  },
  {
   "cell_type": "markdown",
   "metadata": {},
   "source": [
    "The other functions I wrote have similar default arguments. `random_person()` returns a random person from a `list` of people (you've seen something like this in class). The default is to return a single person. `random_groups()` returns randomized groups with a default of two groups."
   ]
  },
  {
   "cell_type": "code",
   "execution_count": 8,
   "metadata": {},
   "outputs": [
    {
     "output_type": "stream",
     "name": "stdout",
     "text": [
      "Two randomly selected people: ['Daniel Davis', 'Sheena Glover']\nThree randomly shuffled groups: [['Sheena Glover', 'Jessica Downs', 'Tracey Brooks'], ['Stephen Jones', 'Debbie Smith', 'Cynthia Johnson'], ['Dr. Wendy Dawson', 'Daniel Davis', 'Crystal Jackson'], ['Toni Oneal', 'Stephanie Green']]\n"
     ]
    }
   ],
   "source": [
    "two_people = random_person(names, 2)\n",
    "print(f\"Two randomly selected people: {two_people}\")\n",
    "\n",
    "# Split everyone into three groups.\n",
    "three_groups = random_groups(names, 3)\n",
    "print(f\"Three randomly shuffled groups: {three_groups}\")"
   ]
  },
  {
   "cell_type": "markdown",
   "metadata": {},
   "source": [
    "The `people` parameter for `random_person()` and `random_groups()` is a mandatory positional argument.\n",
    "\n",
    "**Questions**\n",
    "1. What's the difference between `random_groups(names, groups=4)` and `random_groups(names, 4)`?\n",
    "2. Which of the following are correct?\n",
    "\n",
    "* `random_person(n=2, people=names)`\n",
    "\n",
    "* `random_person(names, 3)`\n",
    "\n",
    "* `random_person(people=names, n=4)`\n",
    "\n",
    "* `random_person(4, names)`"
   ]
  },
  {
   "cell_type": "markdown",
   "metadata": {},
   "source": [
    "# Variadic arguments (\\*args and **kwargs)\n",
    "\n",
    "Variadic arguments are arbitrarily sized. You can pass in as many arguments to `*args` or `**kwargs` as you wish. Like default arguments, variadic arguments are designed to ease calling functions by providing flexibility.\n",
    "\n",
    "[seaborn](https://seaborn.pydata.org/) is a plotting library built on _matplotlib_. The plotting functions generally take `**kwargs` that are passed down to the _matplotlib_ functions.\n",
    "\n",
    "We can take a look at the [kdeplot()](https://seaborn.pydata.org/generated/seaborn.kdeplot.html#seaborn.kdeplot) function for a great example. The documentation mentions that the `**kwargs**` are all passed down to specific _matplotlib_ functions depending on other parameters.\n",
    "\n",
    "We'll take a look at the basic, canonical examples before looking at better uses next week."
   ]
  },
  {
   "cell_type": "code",
   "execution_count": 9,
   "metadata": {},
   "outputs": [
    {
     "output_type": "execute_result",
     "data": {
      "text/plain": [
       "'I like cats meow [\\'look\\', \"it\\'s\", \\'a\\', \\'list\\']'"
      ]
     },
     "metadata": {},
     "execution_count": 9
    }
   ],
   "source": [
    "def concatenate(*args, sep=' '):\n",
    "    \"\"\"Combine strings separated by sep.\"\"\"\n",
    "    # You should use string's \"join\" method instead of this.\n",
    "    temp = \"\"\n",
    "    last_i = len(args) - 1\n",
    "    for i, arg in enumerate(args):\n",
    "        temp += str(arg)\n",
    "        if i != last_i:\n",
    "            temp += sep\n",
    "    return temp\n",
    "\n",
    "concatenate(\"I\", \"like\", \"cats\", \"meow\", [\"look\", \"it's\", \"a\", \"list\"])"
   ]
  },
  {
   "cell_type": "markdown",
   "metadata": {},
   "source": [
    "`concatenate()` is something of the canonical example for `*args`. `print()` works somewhat similarly. Rather than taking a `list` of elements, `print()` takes `*args` that are printed by taking the string representation of each object."
   ]
  },
  {
   "cell_type": "markdown",
   "metadata": {},
   "source": [
    "# Composition\n",
    "\n",
    "Functions are often composed of other functions. In other words, functions build on each other. They're not megaliths that encompass a varied range of actions. Individual functions should be disparate in the sense that do one action well. Other functions can use those functions in service of their goals.\n",
    "\n",
    "Since we're statisticians and data scientists, I'll demonstrate composition via simple equations as functions.\n",
    "\n",
    "I'll use loops instead of comprehensions so they're easier to understand as comprehensions aren't mandatory for this class."
   ]
  },
  {
   "cell_type": "code",
   "execution_count": 10,
   "metadata": {},
   "outputs": [
    {
     "output_type": "execute_result",
     "data": {
      "text/plain": [
       "9.702127126336734"
      ]
     },
     "metadata": {},
     "execution_count": 10
    }
   ],
   "source": [
    "import math\n",
    "\n",
    "def variance(a):\n",
    "    \"\"\"Calculate the variance of an array.\"\"\"\n",
    "    mean_a = mean(a)\n",
    "    diff_squares = 0\n",
    "    \n",
    "    for xi in a:\n",
    "        diff_squares += (xi - mean_a)**2\n",
    "    \n",
    "    return diff_squares/len(a)\n",
    "\n",
    "def stddev(a):\n",
    "    \"\"\"Calculate the standard deviation of an array.\"\"\"\n",
    "    return math.sqrt(variance(a))\n",
    "\n",
    "stddev(random_numbers)"
   ]
  },
  {
   "cell_type": "markdown",
   "metadata": {},
   "source": [
    "# Basic error handling\n",
    "\n",
    "Python is dynamically typed which means that types (such as integers or strings) are determined at run time. This means that you can call `mean()` with nonsense values such as strings. However, Python is also strongly typed which in turn means that incorrect types would raise an exception."
   ]
  },
  {
   "cell_type": "code",
   "execution_count": 7,
   "metadata": {},
   "outputs": [
    {
     "ename": "TypeError",
     "evalue": "unsupported operand type(s) for +=: 'int' and 'str'",
     "output_type": "error",
     "traceback": [
      "\u001b[0;31m---------------------------------------------------------------------------\u001b[0m",
      "\u001b[0;31mTypeError\u001b[0m                                 Traceback (most recent call last)",
      "\u001b[0;32m<ipython-input-7-57a08ae04848>\u001b[0m in \u001b[0;36m<module>\u001b[0;34m\u001b[0m\n\u001b[1;32m      1\u001b[0m \u001b[0mcalculate_this\u001b[0m \u001b[0;34m=\u001b[0m \u001b[0;34m\"i like vegan pie lolol.\"\u001b[0m\u001b[0;34m\u001b[0m\u001b[0;34m\u001b[0m\u001b[0m\n\u001b[1;32m      2\u001b[0m \u001b[0;34m\u001b[0m\u001b[0m\n\u001b[0;32m----> 3\u001b[0;31m \u001b[0mmean\u001b[0m\u001b[0;34m(\u001b[0m\u001b[0mcalculate_this\u001b[0m\u001b[0;34m)\u001b[0m\u001b[0;34m\u001b[0m\u001b[0;34m\u001b[0m\u001b[0m\n\u001b[0m",
      "\u001b[0;32m<ipython-input-1-31931403d681>\u001b[0m in \u001b[0;36mmean\u001b[0;34m(a)\u001b[0m\n\u001b[1;32m     14\u001b[0m \u001b[0;34m\u001b[0m\u001b[0m\n\u001b[1;32m     15\u001b[0m     \u001b[0;32mfor\u001b[0m \u001b[0mx\u001b[0m \u001b[0;32min\u001b[0m \u001b[0ma\u001b[0m\u001b[0;34m:\u001b[0m\u001b[0;34m\u001b[0m\u001b[0;34m\u001b[0m\u001b[0m\n\u001b[0;32m---> 16\u001b[0;31m         \u001b[0msum_a\u001b[0m \u001b[0;34m+=\u001b[0m \u001b[0mx\u001b[0m\u001b[0;34m\u001b[0m\u001b[0;34m\u001b[0m\u001b[0m\n\u001b[0m\u001b[1;32m     17\u001b[0m \u001b[0;34m\u001b[0m\u001b[0m\n\u001b[1;32m     18\u001b[0m     \u001b[0;32mreturn\u001b[0m \u001b[0msum_a\u001b[0m\u001b[0;34m/\u001b[0m\u001b[0mlen\u001b[0m\u001b[0;34m(\u001b[0m\u001b[0ma\u001b[0m\u001b[0;34m)\u001b[0m\u001b[0;34m\u001b[0m\u001b[0;34m\u001b[0m\u001b[0m\n",
      "\u001b[0;31mTypeError\u001b[0m: unsupported operand type(s) for +=: 'int' and 'str'"
     ]
    }
   ],
   "source": [
    "# Dynamic typing\n",
    "calculate_this = \"i like vegan pie lolol.\"\n",
    "\n",
    "# But strongly checked at runtime\n",
    "mean(calculate_this)"
   ]
  },
  {
   "cell_type": "markdown",
   "metadata": {},
   "source": [
    "Python isn't pell-mell about typing! Notice the error as well. The error explains that the function is trying to do some operation that the value doesn't support. The error may seem unclear at first, but you can get a sense of what's wrong by the final line which states `unsupported operand type(s) for +=: 'int' and 'str'`.\n",
    "\n",
    "We can add explicit error checks to functions to provide more information to the caller. "
   ]
  },
  {
   "cell_type": "code",
   "execution_count": 18,
   "metadata": {},
   "outputs": [
    {
     "ename": "TypeError",
     "evalue": "You need to pass in an iterable of numbers.",
     "output_type": "error",
     "traceback": [
      "\u001b[0;31m---------------------------------------------------------------------------\u001b[0m",
      "\u001b[0;31mTypeError\u001b[0m                                 Traceback (most recent call last)",
      "\u001b[0;32m<ipython-input-18-9f9d383dcc5f>\u001b[0m in \u001b[0;36m<module>\u001b[0;34m\u001b[0m\n\u001b[1;32m     30\u001b[0m     \u001b[0;32mreturn\u001b[0m \u001b[0msum_a\u001b[0m\u001b[0;34m/\u001b[0m\u001b[0mlen\u001b[0m\u001b[0;34m(\u001b[0m\u001b[0ma\u001b[0m\u001b[0;34m)\u001b[0m\u001b[0;34m\u001b[0m\u001b[0;34m\u001b[0m\u001b[0m\n\u001b[1;32m     31\u001b[0m \u001b[0;34m\u001b[0m\u001b[0m\n\u001b[0;32m---> 32\u001b[0;31m \u001b[0m_\u001b[0m \u001b[0;34m=\u001b[0m \u001b[0mmean\u001b[0m\u001b[0;34m(\u001b[0m\u001b[0;34m[\u001b[0m\u001b[0;34m\"Dark Souls\"\u001b[0m\u001b[0;34m,\u001b[0m \u001b[0;34m\"is a\"\u001b[0m\u001b[0;34m,\u001b[0m \u001b[0;34m\"great series.\"\u001b[0m\u001b[0;34m]\u001b[0m\u001b[0;34m)\u001b[0m\u001b[0;34m\u001b[0m\u001b[0;34m\u001b[0m\u001b[0m\n\u001b[0m",
      "\u001b[0;32m<ipython-input-18-9f9d383dcc5f>\u001b[0m in \u001b[0;36mmean\u001b[0;34m(a)\u001b[0m\n\u001b[1;32m     17\u001b[0m             \u001b[0;32mand\u001b[0m\u001b[0;34m\u001b[0m\u001b[0;34m\u001b[0m\u001b[0m\n\u001b[1;32m     18\u001b[0m             isinstance(a[0], (int, float))):\n\u001b[0;32m---> 19\u001b[0;31m         \u001b[0;32mraise\u001b[0m \u001b[0mTypeError\u001b[0m\u001b[0;34m(\u001b[0m\u001b[0;34m\"You need to pass in an iterable of numbers.\"\u001b[0m\u001b[0;34m)\u001b[0m\u001b[0;34m\u001b[0m\u001b[0;34m\u001b[0m\u001b[0m\n\u001b[0m\u001b[1;32m     20\u001b[0m \u001b[0;34m\u001b[0m\u001b[0m\n\u001b[1;32m     21\u001b[0m     \u001b[0;31m# Empty arrays cause division by zero.\u001b[0m\u001b[0;34m\u001b[0m\u001b[0;34m\u001b[0m\u001b[0;34m\u001b[0m\u001b[0m\n",
      "\u001b[0;31mTypeError\u001b[0m: You need to pass in an iterable of numbers."
     ]
    }
   ],
   "source": [
    "from array import array\n",
    "\n",
    "def mean(a):\n",
    "    \"\"\"Calculate the arithmetic mean of an iterable.\n",
    "\n",
    "    Parameters\n",
    "    ----------\n",
    "    a: Iterable\n",
    "        An Iterable of numbers.\n",
    "\n",
    "    Returns\n",
    "    -------\n",
    "    Mean of a as an integer or float.\n",
    "    \"\"\"\n",
    "    # Check for an iterable of numbers.\n",
    "    if not (isinstance(a, (list, array))\n",
    "            and\n",
    "            isinstance(a[0], (int, float))):\n",
    "        raise TypeError(\"You need to pass in an iterable of numbers.\")\n",
    "\n",
    "    # Empty arrays cause division by zero.\n",
    "    if not len(a):\n",
    "        raise ValueError(\"You can't calculate the mean of an empty array.\")\n",
    "\n",
    "    sum_a = 0\n",
    "\n",
    "    for x in a:\n",
    "        sum_a += x\n",
    "    \n",
    "    return sum_a/len(a)\n",
    "\n",
    "_ = mean([\"Dark Souls\", \"is a\", \"great series.\"])"
   ]
  },
  {
   "cell_type": "markdown",
   "metadata": {},
   "source": [
    "# Longer PokéAPI example\n",
    "\n",
    "Let's revisit the [Pokémon API](https://pokeapi.co/) example from last week.\n",
    "\n",
    "I designed this more as a script, but you shouldn't take it as the absolute best way to tackle this problem. The site lists several API implementations in different languages, including Python, that you should use instead."
   ]
  },
  {
   "cell_type": "code",
   "execution_count": null,
   "metadata": {},
   "outputs": [],
   "source": [
    "import io\n",
    "import matplotlib.pyplot as plt\n",
    "import json\n",
    "import time\n",
    "\n",
    "from requests import Session, HTTPError\n",
    "from IPython.display import display\n",
    "from PIL import Image\n",
    "\n",
    "POKEAPI = \"https://pokeapi.co/api/v2/pokemon/{}\"\n",
    "CACHE_PATH = \"pokeapi_cache.json\"\n",
    "THROTTLE = 30\n",
    "\n",
    "session = None\n",
    "poke_cache = None\n",
    "last_time = None\n",
    "\n",
    "def load_cache(path):\n",
    "    global poke_cache\n",
    "    try:\n",
    "        with open(path, 'r') as cache:\n",
    "            poke_cache = json.load(cache)\n",
    "    except FileNotFoundError:\n",
    "        # Create an empty cache if the file doesn't exist.\n",
    "        # Also...just bubble up the rest of the errors.\n",
    "        poke_cache = {}\n",
    "\n",
    "def check_cache(pokenum):\n",
    "    return poke_cache.get(pokenum)\n",
    "\n",
    "def update_cache(new_pokemon):\n",
    "    poke_cache.update(new_pokemon)\n",
    "\n",
    "def check_time():\n",
    "    global last_time\n",
    "\n",
    "    # Check if thirty seconds has elapsed.\n",
    "    sleep_time = THROTTLE - (time.monotonic() - last_time)\n",
    "    if sleep_time > 0:\n",
    "        print(f\"Pausing for {sleep_time} seconds.\")\n",
    "        time.sleep(sleep_time)\n",
    "\n",
    "def create_url(pokenum):\n",
    "    return POKEAPI.format(pokenum)\n",
    "\n",
    "def init_scraper(path=CACHE_PATH):\n",
    "    global poke_cache\n",
    "    global session\n",
    "    global last_time\n",
    "\n",
    "    if not poke_cache:\n",
    "        load_cache(path)\n",
    "    if not session:\n",
    "        session = Session()\n",
    "    if not last_time:\n",
    "        last_time = time.monotonic()\n",
    "\n",
    "def get_pokemon(pokemon_nums, **kwargs):\n",
    "    pokedata = {}\n",
    "\n",
    "    for pokenum in pokemon_nums:\n",
    "        # Check if the Pokémon data exists in the cache\n",
    "        # instead of scraping again.\n",
    "        if data := check_cache(pokenum):\n",
    "            pokedata[pokemon] = data\n",
    "            continue\n",
    "\n",
    "        # Throttle to avoid spamming the API\n",
    "        check_time()\n",
    "        try:\n",
    "            url = create_url(pokenum)\n",
    "            resp = session.get(url, kwargs).raise_for_status().json()\n",
    "            pokedata[pokenum] = resp\n",
    "        except HTTPError as e:\n",
    "            \n",
    "\n",
    "    update_cache(pokedata)\n",
    "    return pokedata\n",
    "\n",
    "init_scraper()\n",
    "get_pokemon([54])\n"
   ]
  }
 ],
 "metadata": {
  "kernelspec": {
   "display_name": "Python 3.9.5 64-bit",
   "language": "python",
   "name": "python39564bitf405e75bcee54dab84b8482905337781"
  },
  "language_info": {
   "codemirror_mode": {
    "name": "ipython",
    "version": 3
   },
   "file_extension": ".py",
   "mimetype": "text/x-python",
   "name": "python",
   "nbconvert_exporter": "python",
   "pygments_lexer": "ipython3",
   "version": "3.9.7-final"
  }
 },
 "nbformat": 4,
 "nbformat_minor": 2
}