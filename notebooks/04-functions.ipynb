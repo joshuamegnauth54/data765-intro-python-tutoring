{
 "cells": [
  {
   "cell_type": "markdown",
   "metadata": {},
   "source": [
    "# Functions\n",
    "## Data 765 tutoring\n",
    "\n",
    "Functions are reusable blocks of codes. You've been using built-in functions throughout the course, such as `print()`. I also wrote examples of functions in other Notebooks.\n",
    "\n",
    "Like iteration, functions are integral to your scripts and programs.\n",
    "\n",
    "Functions vastly increase the readability and maintainability of code. A well tested function reduces the amount of code that you have to write. Functions also provide a single point to test and repair. For example, fixing or improving a function causes those changes to reverberate wherever it is called.\n",
    "\n",
    "Another benefit is that functions separate logic into discrete blocks that reduce a programmer's cognitive load. Reading well defined functions is easier than parsing hundreds of lines all at once.\n",
    "\n",
    "**D.R.Y.** or Don't Repeat Yourself is a primary impetus for writing functions. If you find yourself copying and pasting blocks of code or writing similar lines of code, then you may likely refactor those into a function.\n",
    "\n",
    "# Basic functions\n",
    "Let's write a function to calculate the mean of a `list`!\n",
    "\n",
    "As a sidenote, I don't recommend rolling your own mean function over using the built in [statistics](https://docs.python.org/3/library/statistics.html) module or [NumPy](https://numpy.org/)."
   ]
  },
  {
   "cell_type": "code",
   "execution_count": 1,
   "metadata": {},
   "outputs": [],
   "source": [
    "def mean(a):\n",
    "    \"\"\"Calculate the arithmetic mean of an iterable.\n",
    "\n",
    "    Parameters\n",
    "    ----------\n",
    "    a: Iterable\n",
    "        An Iterable of numbers.\n",
    "\n",
    "    Returns\n",
    "    -------\n",
    "    Mean of a as an integer or float.\n",
    "    \"\"\"\n",
    "    sum_a = 0\n",
    "\n",
    "    for x in a:\n",
    "        sum_a += x\n",
    "    \n",
    "    return sum_a/len(a)"
   ]
  },
  {
   "cell_type": "markdown",
   "metadata": {},
   "source": [
    "N.b., again: I also don't recommend writing a mean function using a `for` loop. But you shouldn't forget `for` loops, so I'll ensure you can't escape them!\n",
    "\n",
    "This is more succinct (and still worse than using NumPy or the statistics module):"
   ]
  },
  {
   "cell_type": "code",
   "execution_count": 2,
   "metadata": {},
   "outputs": [],
   "source": [
    "def better_mean(a):\n",
    "    \"\"\"Like mean(a) but BETTER!\"\"\"\n",
    "    return sum(a)/len(a)"
   ]
  },
  {
   "cell_type": "markdown",
   "metadata": {},
   "source": [
    "Functions may take zero or more parameters. `mean()` takes one parameter, `a`, which is the array for which to calculate the mean. Something that is passed into a function is known as an argument.\n",
    "\n",
    "Parameters are scoped within a function. The parameters declared in a function signatures are valid within the function and can be used in the code block that defines the function.\n",
    "\n",
    "Thus:"
   ]
  },
  {
   "cell_type": "code",
   "execution_count": 3,
   "metadata": {},
   "outputs": [
    {
     "name": "stdout",
     "output_type": "stream",
     "text": [
      "5.035592718898639\n"
     ]
    }
   ],
   "source": [
    "import random\n",
    "\n",
    "random_numbers = [random.gauss(5., 10.) for _ in range(1000)]\n",
    "x_bar = mean(random_numbers)\n",
    "print(x_bar)"
   ]
  },
  {
   "cell_type": "markdown",
   "metadata": {},
   "source": [
    "`random_numbers` is the argument passed into `mean()`. That argument is passed into the parameter `a`. Argument and parameter are often interchangable colloquially, so you don't need to memorize the exact distinction.\n",
    "\n",
    "Python functions that don't take parameters or have defaults for every argument (more on that later) are called as you would expect: `f()`. "
   ]
  },
  {
   "cell_type": "code",
   "execution_count": 4,
   "metadata": {},
   "outputs": [
    {
     "name": "stdout",
     "output_type": "stream",
     "text": [
      "It is October 20, 2021 (at the time of running my code at least).\n"
     ]
    }
   ],
   "source": [
    "from datetime import datetime, timedelta\n",
    "\n",
    "now = datetime.now().strftime(\"%B %d, %Y\")\n",
    "\n",
    "print(f\"It is {now} (at the time of running my code at least).\")"
   ]
  },
  {
   "cell_type": "markdown",
   "metadata": {},
   "source": [
    "`datetime.now()` doesn't have any parameters. Declaring a function without parameters also looks as you would expect."
   ]
  },
  {
   "cell_type": "code",
   "execution_count": 5,
   "metadata": {},
   "outputs": [
    {
     "name": "stdout",
     "output_type": "stream",
     "text": [
      "And yesterday was Tuesday, October 19.\n"
     ]
    }
   ],
   "source": [
    "def yesterday():\n",
    "    return datetime.now() - timedelta(days=1)\n",
    "\n",
    "yesterday_f = yesterday().strftime(\"%A, %B %d\")\n",
    "\n",
    "print(f\"And yesterday was {yesterday_f}.\")"
   ]
  },
  {
   "cell_type": "markdown",
   "metadata": {},
   "source": [
    "**Questions:**\n",
    "1. What happens if we remove `name` from the function declaration below?"
   ]
  },
  {
   "cell_type": "code",
   "execution_count": null,
   "metadata": {},
   "outputs": [],
   "source": [
    "def say_hello(name):\n",
    "    print(f\"Hi {name}!!\")\n",
    "\n",
    "# Why doesn't this work?\n",
    "def say_hello():\n",
    "    print(f\"Hi {name}!!\")"
   ]
  },
  {
   "cell_type": "markdown",
   "metadata": {},
   "source": [
    "# Default arguments\n",
    "\n",
    "Default arguments allow programmers to provide reasonable defaults for their functions. A function may have many parameters to custom execution. [matplotlib](https://matplotlib.org/) is a plotting and graphics library. Its classes and functions tend to have _tons_ of parameters to customize calls. Take a look at [some of the functions here](https://matplotlib.org/stable/api/_as_gen/matplotlib.pyplot.html#module-matplotlib.pyplot) for examples.\n",
    "\n",
    "We'll look at the [scatter](https://matplotlib.org/stable/api/_as_gen/matplotlib.axes.Axes.scatter.html#matplotlib.axes.Axes.scatter) function as a demonstration.\n",
    "\n",
    "A scatter plot in _matplotlib_ requires two arrays of the `x` and `y` pairs to plot. Beyond that, the size, point color, edge color, color map, alpha, and other parameters may be set.\n",
    "\n",
    "So, think about it: would you really want to pass an argument for each parameter every time you need a simple scatter plot? **NO. AHH!** 😱\n",
    "\n",
    "In order to prevent programmers from going totally nuts, the _matplotlib_ sages wisely provided default arguments for every parameter except `x` and `y`.\n",
    "\n",
    "Default arguments make certain parameters optional. Positional arguments are mandatory. Thus, in the `scatter()` function linked above, you _always_ have to pass `x` and `y` but can pass the other arguments as necessary.\n",
    "\n",
    "Now let's take a look at a few examples."
   ]
  },
  {
   "cell_type": "code",
   "execution_count": 6,
   "metadata": {},
   "outputs": [],
   "source": [
    "from faker import Faker\n",
    "\n",
    "def generate_names(amount=2):\n",
    "    \"\"\"Generate random names using Faker.\n",
    "\n",
    "    Parameters\n",
    "    ----------\n",
    "    amount: int\n",
    "        Number of fake names to generate.\n",
    "    \n",
    "    Returns\n",
    "    -------\n",
    "    A list[str] of random names.\n",
    "    \"\"\"\n",
    "    fake = Faker()\n",
    "    return [fake.name() for _ in range(amount)]\n",
    "\n",
    "def random_person(people, n=1):\n",
    "    \"\"\"Return n random people.\n",
    "\n",
    "    Parameters\n",
    "    ----------\n",
    "    people: list[str]\n",
    "        A list or iterable of people.\n",
    "    n: int\n",
    "        Amount of people to return.\n",
    "    \n",
    "    Returns\n",
    "    -------\n",
    "    A list[str] of people.\n",
    "    \"\"\"\n",
    "    return [random.choice(people) for _ in range(n)]\n",
    "\n",
    "def random_groups(people, groups=2):\n",
    "    \"\"\"Return people separated into groups.\n",
    "\n",
    "    Parameters\n",
    "    ----------\n",
    "    people: list[str]\n",
    "        A list or iterable of people.\n",
    "    groups: int\n",
    "        Amount of groups.\n",
    "\n",
    "    Returns\n",
    "    -------\n",
    "    List of list of groups of people. list[list[str]]\n",
    "    \"\"\"\n",
    "    length = len(people)\n",
    "    # Shadowing, not mutation\n",
    "    # Shuffle would mutate\n",
    "    people = random.sample(people, length)\n",
    "    return [people[i:i + groups] for i in range(0, length, groups)]"
   ]
  },
  {
   "cell_type": "markdown",
   "metadata": {},
   "source": [
    "The functions above all have reasonable defaults. `generate_names()` returns realistic, localized names using [Faker](https://faker.readthedocs.io/en/master/); the function defaults to two names. We can call it by passing in a number or without arguments to use the default."
   ]
  },
  {
   "cell_type": "code",
   "execution_count": 7,
   "metadata": {},
   "outputs": [
    {
     "name": "stdout",
     "output_type": "stream",
     "text": [
      "Two names via default argument: ['Alyssa Griffin', 'Ricky Terry']\n",
      "Five names via specifically passing 5 to 'amount': ['Sandra Randall', 'Peter Compton', 'Katrina Grant', 'Alexandra Walter', 'Seth Hansen']\n"
     ]
    }
   ],
   "source": [
    "# Generates two names\n",
    "names = generate_names()\n",
    "print(f\"Two names via default argument: {names}\")\n",
    "\n",
    "# Generates five names by specifically using the keyword argument.\n",
    "names = generate_names(amount=5)\n",
    "print(f\"Five names via specifically passing 5 to 'amount': {names}\")\n",
    "\n",
    "# Generates 11 names by passing 11 by position.\n",
    "names = generate_names(11)"
   ]
  },
  {
   "cell_type": "markdown",
   "metadata": {},
   "source": [
    "The other functions I wrote have similar default arguments. `random_person()` returns a random person from a `list` of people (you've seen something like this in class). The default is to return a single person. `random_groups()` returns randomized groups with a default of two groups."
   ]
  },
  {
   "cell_type": "code",
   "execution_count": 8,
   "metadata": {},
   "outputs": [
    {
     "name": "stdout",
     "output_type": "stream",
     "text": [
      "Two randomly selected people: ['Jordan Martinez', 'Jordan Martinez']\n",
      "Three randomly shuffled groups: [['Patrick Lyons', 'Katie Branch', 'Teresa Wiggins'], ['Mike Patrick', 'Travis Jackson', 'James Torres'], ['Donald Martin', 'William Hanson', 'Dawn Andrews'], ['Jordan Martinez', 'Anna Schwartz']]\n"
     ]
    }
   ],
   "source": [
    "two_people = random_person(names, 2)\n",
    "print(f\"Two randomly selected people: {two_people}\")\n",
    "\n",
    "# Split everyone into three groups.\n",
    "three_groups = random_groups(names, 3)\n",
    "print(f\"Three randomly shuffled groups: {three_groups}\")"
   ]
  },
  {
   "cell_type": "markdown",
   "metadata": {},
   "source": [
    "The `people` parameter for `random_person()` and `random_groups()` is a mandatory positional argument.\n",
    "\n",
    "**Questions**\n",
    "1. What's the difference between `random_groups(names, groups=4)` and `random_groups(names, 4)`?\n",
    "2. Which of the following are correct?\n",
    "\n",
    "* `random_person(n=2, people=names)`\n",
    "\n",
    "* `random_person(names, 3)`\n",
    "\n",
    "* `random_person(people=names, n=4)`\n",
    "\n",
    "* `random_person(4, names)`"
   ]
  },
  {
   "cell_type": "markdown",
   "metadata": {},
   "source": [
    "# Variadic arguments (\\*args and **kwargs)\n",
    "\n",
    "Variadic arguments are arbitrarily sized. You can pass in as many arguments to `*args` or `**kwargs` as you wish. Like default arguments, variadic arguments are designed to ease calling functions by providing flexibility.\n",
    "\n",
    "[seaborn](https://seaborn.pydata.org/) is a plotting library built on _matplotlib_. The plotting functions generally take `**kwargs` that are passed down to the _matplotlib_ functions.\n",
    "\n",
    "We can take a look at the [kdeplot()](https://seaborn.pydata.org/generated/seaborn.kdeplot.html#seaborn.kdeplot) function for a great example. The documentation mentions that the `**kwargs**` are all passed down to specific _matplotlib_ functions depending on other parameters.\n",
    "\n",
    "We'll take a look at the basic, canonical examples before looking at better uses next week."
   ]
  },
  {
   "cell_type": "code",
   "execution_count": 9,
   "metadata": {},
   "outputs": [
    {
     "data": {
      "text/plain": [
       "'I like cats meow [\\'look\\', \"it\\'s\", \\'a\\', \\'list\\']'"
      ]
     },
     "execution_count": 9,
     "metadata": {},
     "output_type": "execute_result"
    }
   ],
   "source": [
    "def concatenate(*args, sep=' '):\n",
    "    \"\"\"Combine strings separated by sep.\"\"\"\n",
    "    # You should use string's \"join\" method instead of this.\n",
    "    temp = \"\"\n",
    "    last_i = len(args) - 1\n",
    "    for i, arg in enumerate(args):\n",
    "        temp += str(arg)\n",
    "        if i != last_i:\n",
    "            temp += sep\n",
    "    return temp\n",
    "\n",
    "concatenate(\"I\", \"like\", \"cats\", \"meow\", [\"look\", \"it's\", \"a\", \"list\"])"
   ]
  },
  {
   "cell_type": "markdown",
   "metadata": {},
   "source": [
    "`concatenate()` is something of the canonical example for `*args`. `print()` works somewhat similarly. Rather than taking a `list` of elements, `print()` takes `*args` that are printed by taking the string representation of each object."
   ]
  },
  {
   "cell_type": "markdown",
   "metadata": {},
   "source": [
    "# Composition\n",
    "\n",
    "Functions are often composed of other functions. In other words, functions build on each other. They're not megaliths that encompass a varied range of actions. Individual functions should be disparate in the sense that do one action well. Other functions can use those functions in service of their goals.\n",
    "\n",
    "Since we're statisticians and data scientists, I'll demonstrate composition via simple equations as functions.\n",
    "\n",
    "I'll use loops instead of comprehensions so they're easier to understand as comprehensions aren't mandatory for this class."
   ]
  },
  {
   "cell_type": "code",
   "execution_count": 10,
   "metadata": {},
   "outputs": [
    {
     "data": {
      "text/plain": [
       "10.261722924872414"
      ]
     },
     "execution_count": 10,
     "metadata": {},
     "output_type": "execute_result"
    }
   ],
   "source": [
    "import math\n",
    "\n",
    "def variance(a):\n",
    "    \"\"\"Calculate the variance of an array.\"\"\"\n",
    "    mean_a = mean(a)\n",
    "    diff_squares = 0\n",
    "    \n",
    "    for xi in a:\n",
    "        diff_squares += (xi - mean_a)**2\n",
    "    \n",
    "    return diff_squares/len(a)\n",
    "\n",
    "def stddev(a):\n",
    "    \"\"\"Calculate the standard deviation of an array.\"\"\"\n",
    "    return math.sqrt(variance(a))\n",
    "\n",
    "stddev(random_numbers)"
   ]
  },
  {
   "cell_type": "markdown",
   "metadata": {},
   "source": [
    "`stddev()` calls `variance()` which in turn calls `mean()`. The functions build on each other rather than reimplementing functionality. We could technically define `stddev()` like so:"
   ]
  },
  {
   "cell_type": "code",
   "execution_count": 11,
   "metadata": {},
   "outputs": [],
   "source": [
    "def bad_stddev(a):\n",
    "    # Mean of a\n",
    "    a_mean = sum(a)/len(a)\n",
    "    # Variance\n",
    "    a_var = [(xi - a_mean)**2 for xi in a]\n",
    "    a_var = sum(a_var)/len(a_var)\n",
    "    \n",
    "    # And finally standard deviation\n",
    "    return a_var**0.5"
   ]
  },
  {
   "cell_type": "markdown",
   "metadata": {},
   "source": [
    "However, that clearly duplicates works that should be separated into multiple functions. The benefit of multiple functions would be that updates to one function (i.e. a faster algorithm) would extend to every function calling that function. You know, composition!\n",
    "\n",
    "_Not_ writing separate functions means that if we were to define a `variance()` function later we'd end up duplicating the code to calculate a mean again for no gain.\n",
    "\n",
    "# Lambdas and closures\n",
    "\n",
    "Lambdas are anonymous functions. Closures are anonymous functions that enclose an environment by keeping the references to certain variables.\n",
    "\n",
    "Lambdas are useful for executing a small action without having to write an entire function. You can think of them as throwaway or single use functions.\n",
    "\n",
    "Python's lambdas are limited to one expression. Python also hinders mutations and assignments. While you can technically write multiline lambdas using [glorious hacky logic](https://stackoverflow.com/questions/1233448/no-multiline-lambda-in-python-why-not) and assign to local variables using the walrus `:=` operator, doing so is not idiomatic Python and looks hilariously ugly. Side effects with lambdas are not idiomatic in Python (and most other languages, probably).\n",
    "\n",
    "Lambdas are written like so:\n",
    "`lambda var1, var2, varN: expression`.\n",
    "\n",
    "They're usually passed directly to functions that take lambdas rather than stored in variables. For example, Python's [map()](https://docs.python.org/3/library/functions.html#map) calls a lambda over each element of an iterable. `map()` is lazily evaluated by yielding the results. We have to consume the generator if we want all of the outputs in a data structure, like a `list`."
   ]
  },
  {
   "cell_type": "code",
   "execution_count": 12,
   "metadata": {},
   "outputs": [
    {
     "name": "stdout",
     "output_type": "stream",
     "text": [
      "[10.359360139651542, 10.192140300436932, 9.781905257336646, 10.435219304944404, 10.068903564469576, 10.13980122450079, 9.904777265195513, 10.119542004578289, 9.864959970025332, 9.864811602658659, 10.204753693382155, 9.800811585394055, 10.25152672952076, 9.552711278618277, 9.732936889182817, 10.161206584584026, 9.949628668779145, 10.0521472901358, 10.079544905986616, 10.011901840232888]\n"
     ]
    }
   ],
   "source": [
    "# 20 random lists of numbers of 1000 numbers each.\n",
    "nested_random = [[random.gauss(10, random.randint(1, 10)) for _ in range(1000)]\n",
    "                 for _ in range(20)]\n",
    "\n",
    "# Notice that map()'s output is consumed by list.\n",
    "nested_random_means = list(map(lambda x: sum(x)/len(x), nested_random))\n",
    "\n",
    "print(nested_random_means)"
   ]
  },
  {
   "cell_type": "markdown",
   "metadata": {},
   "source": [
    "Lambdas as well as functions can also be stored in variables. You can pass standalone lambdas, functions, stored lambdas, and stored functions anywhere function objects are expected."
   ]
  },
  {
   "cell_type": "code",
   "execution_count": 13,
   "metadata": {},
   "outputs": [],
   "source": [
    "# Lambs aren't mean.\n",
    "mean_lamb = lambda x: sum(x)/len(x)\n",
    "\n",
    "# Storing the mean function from earlier into another variable.\n",
    "meanest = mean\n",
    "\n",
    "_ = map(mean_lamb, nested_random)\n",
    "_ = map(meanest, nested_random)\n",
    "_ = map(mean, nested_random)"
   ]
  },
  {
   "cell_type": "markdown",
   "metadata": {},
   "source": [
    "Functions, like basically everything else in Python, are objects. Assigning functions to variables is similar to assigning the same string to two different variables. The variables simply hold the reference to the functions rather than cloning the definition.\n",
    "\n",
    "You can call a lambda like a function after assigning it to a variable. This should make sense given the logic above. Defining a function grants it a name, such as `mean()`, which allows you to call the function. If you copy the reference into another variable as shown above, you can still call the function using the new name like you would normally.\n",
    "\n",
    "(I'm going somewhere with this)."
   ]
  },
  {
   "cell_type": "code",
   "execution_count": 14,
   "metadata": {},
   "outputs": [],
   "source": [
    "_ = mean_lamb(random_numbers)\n",
    "_ = meanest(random_numbers)"
   ]
  },
  {
   "cell_type": "markdown",
   "metadata": {},
   "source": [
    "This means that you can pass functions into _other_ functions. You saw this above with `map()` which is a function that takes another function, such as a lambda, and calls the function on each element of an iterable.\n",
    "\n",
    "Writing a function that takes a callable (functions, lambdas, callable classes) as a parameter isn't different from what you've seen so far.\n",
    "\n",
    "The function below calls a function (`fn`) on `iterable` in overlapping windows of length `size`."
   ]
  },
  {
   "cell_type": "code",
   "execution_count": 15,
   "metadata": {},
   "outputs": [],
   "source": [
    "def rolling(iterable, size, fn):\n",
    "    \"\"\"Map over overlapping windows.\n",
    "    \n",
    "    iterable: Iterable\n",
    "        A sequence to call a function over.\n",
    "    size: integer\n",
    "        Window size. Must be positive.\n",
    "    fn: Callable\n",
    "        A callable, such as a function, to map over iterable.\n",
    "    \"\"\"\n",
    "    iter_len = len(iterable)\n",
    "    \n",
    "    # Yielding None (or NaN) is reasonable here instead of raising an error.\n",
    "    # Raising an error would force messy try blocks everywhere whereas NaN\n",
    "    # would be more idiomatic in a data context.\n",
    "    if not iter_len:\n",
    "        # Returning an iterable to keep the return types the same.\n",
    "        # \"yield None\" doesn't work because the function stops and\n",
    "        # breaks the return statement at the bottom.\n",
    "        # So, this is a bit hacky until I find a better solution.\n",
    "        return iter([None])\n",
    "    \n",
    "    if not size or size < 0:\n",
    "        raise ValueError(f\"Window size must be positive. Got: {size}\")\n",
    "    \n",
    "    return (fn(iterable[i:i + size]) for i in range(iter_len))"
   ]
  },
  {
   "cell_type": "markdown",
   "metadata": {},
   "source": [
    "If you'd prefer a loop and _not_ a generator: "
   ]
  },
  {
   "cell_type": "code",
   "execution_count": 16,
   "metadata": {},
   "outputs": [],
   "source": [
    "def rolling_loop(iterable, size, fn):\n",
    "    outputs = []\n",
    "    for i in range(len(iterable)):\n",
    "        outputs.append(fn(iterable[i:i + size]))\n",
    "    return outputs"
   ]
  },
  {
   "cell_type": "markdown",
   "metadata": {},
   "source": [
    "And here's `rolling()` in action by calculating a rolling mean:"
   ]
  },
  {
   "cell_type": "code",
   "execution_count": 17,
   "metadata": {},
   "outputs": [
    {
     "name": "stdout",
     "output_type": "stream",
     "text": [
      "Example output: [9.578188870789948, 14.495991378074308, 20.04375293359957, 22.318810090728864, 15.345636389336233, 8.46145917008217, -1.8756206721897992, -1.1099176354194518, -4.267736015345626, 5.600331781848614]\n"
     ]
    }
   ],
   "source": [
    "roll_mean = list(rolling(random_numbers, 3, mean))\n",
    "roll_mean_loop = rolling_loop(random_numbers, 3, mean)\n",
    "\n",
    "print(f\"Example output: {roll_mean[:10]}\")"
   ]
  },
  {
   "cell_type": "markdown",
   "metadata": {},
   "source": [
    "## Closures\n",
    "\n",
    "Closures \"close\" over an environment by keeping references to variables from scopes outside of the function. Decorators, which aren't covered in this course, are syntactic sugar for closures.\n",
    "\n",
    "Closures in Python are most easily defined by returning a function from within another function.\n",
    "\n",
    "Let's say we want to simplify our calls of `rolling()` by covering a few common use cases."
   ]
  },
  {
   "cell_type": "code",
   "execution_count": 18,
   "metadata": {},
   "outputs": [],
   "source": [
    "import functools\n",
    "import statistics\n",
    "from typing import Union\n",
    "import numpy as np\n",
    "\n",
    "def rolling_with(func):\n",
    "    \"\"\"Wrap func to be called in moving windows.\n",
    "    \n",
    "    Parameters\n",
    "    ----------\n",
    "    func: Callable[[Iterable, Union[int, float, np.number]],\n",
    "                    Union[int, float, np.number]]\n",
    "        Callable to wrap into rolling windows.\n",
    "    \n",
    "    Returns\n",
    "    -------\n",
    "    Callable[[Iterable, Union[int, float, np.number]],\n",
    "             Union[int, float, np.number]]\n",
    "        Wrapped function.\n",
    "    \"\"\"\n",
    "    # Fixes the __name__ attribute for the returned function\n",
    "    # so that it has the right name.\n",
    "    @functools.wraps(func)\n",
    "    def rolling_with_inner(iterable, size):\n",
    "        return rolling(iterable, size, func)\n",
    "    \n",
    "    return rolling_with_inner\n",
    "\n",
    "# Example calls\n",
    "rolling_mean = rolling_with(mean)\n",
    "rolling_med = rolling_with(statistics.median)\n",
    "rolling_mode = rolling_with(statistics.mode)\n",
    "rolling_max = rolling_with(max)"
   ]
  },
  {
   "cell_type": "markdown",
   "metadata": {},
   "source": [
    "Python provides syntactic sugar to elide calling `rolling_with()`; these are called decorators. Decorators are placed at the top of a function definition with `@name_of_decorator(args)`. You don't have to pass the name of the function to the decorator."
   ]
  },
  {
   "cell_type": "code",
   "execution_count": 19,
   "metadata": {},
   "outputs": [
    {
     "name": "stdout",
     "output_type": "stream",
     "text": [
      "Testing rolling_mean: [9.578188870789948, 14.495991378074308, 20.04375293359957, 22.318810090728864, 15.345636389336233, 8.46145917008217, -1.8756206721897992, -1.1099176354194518, -4.267736015345626, 5.600331781848614]\n"
     ]
    }
   ],
   "source": [
    "@rolling_with\n",
    "def rolling_mean(x):\n",
    "    \"\"\"Calculate a rolling mean over an iterable.\n",
    "    \n",
    "    Parameters\n",
    "    ----------\n",
    "    x: Iterable[Union[int, float, np.number]]\n",
    "    size: int\n",
    "        Size of rolling window.\n",
    "    \n",
    "    Returns\n",
    "    -------\n",
    "    Iterable[Union[int, float, np.number]]\n",
    "    \"\"\"\n",
    "    return sum(x)/len(x)\n",
    "\n",
    "roll_test = list(rolling_mean(random_numbers, 3))\n",
    "\n",
    "print(f\"Testing rolling_mean: {roll_test[:10]}\")"
   ]
  },
  {
   "cell_type": "markdown",
   "metadata": {},
   "source": [
    "# Basic error handling\n",
    "\n",
    "Python is dynamically typed which means that types (such as integers or strings) are determined at run time. This means that you can call `mean()` with nonsense values such as strings. However, Python is also strongly typed which in turn means that incorrect types would raise an exception."
   ]
  },
  {
   "cell_type": "code",
   "execution_count": 20,
   "metadata": {},
   "outputs": [
    {
     "ename": "TypeError",
     "evalue": "unsupported operand type(s) for +=: 'int' and 'str'",
     "output_type": "error",
     "traceback": [
      "\u001b[0;31m---------------------------------------------------------------------------\u001b[0m",
      "\u001b[0;31mTypeError\u001b[0m                                 Traceback (most recent call last)",
      "\u001b[0;32m/tmp/ipykernel_1106/2939524134.py\u001b[0m in \u001b[0;36m<module>\u001b[0;34m\u001b[0m\n\u001b[1;32m      3\u001b[0m \u001b[0;34m\u001b[0m\u001b[0m\n\u001b[1;32m      4\u001b[0m \u001b[0;31m# But strongly checked at runtime\u001b[0m\u001b[0;34m\u001b[0m\u001b[0;34m\u001b[0m\u001b[0m\n\u001b[0;32m----> 5\u001b[0;31m \u001b[0mmean\u001b[0m\u001b[0;34m(\u001b[0m\u001b[0mcalculate_this\u001b[0m\u001b[0;34m)\u001b[0m\u001b[0;34m\u001b[0m\u001b[0;34m\u001b[0m\u001b[0m\n\u001b[0m",
      "\u001b[0;32m/tmp/ipykernel_1106/4062605943.py\u001b[0m in \u001b[0;36mmean\u001b[0;34m(a)\u001b[0m\n\u001b[1;32m     14\u001b[0m \u001b[0;34m\u001b[0m\u001b[0m\n\u001b[1;32m     15\u001b[0m     \u001b[0;32mfor\u001b[0m \u001b[0mx\u001b[0m \u001b[0;32min\u001b[0m \u001b[0ma\u001b[0m\u001b[0;34m:\u001b[0m\u001b[0;34m\u001b[0m\u001b[0;34m\u001b[0m\u001b[0m\n\u001b[0;32m---> 16\u001b[0;31m         \u001b[0msum_a\u001b[0m \u001b[0;34m+=\u001b[0m \u001b[0mx\u001b[0m\u001b[0;34m\u001b[0m\u001b[0;34m\u001b[0m\u001b[0m\n\u001b[0m\u001b[1;32m     17\u001b[0m \u001b[0;34m\u001b[0m\u001b[0m\n\u001b[1;32m     18\u001b[0m     \u001b[0;32mreturn\u001b[0m \u001b[0msum_a\u001b[0m\u001b[0;34m/\u001b[0m\u001b[0mlen\u001b[0m\u001b[0;34m(\u001b[0m\u001b[0ma\u001b[0m\u001b[0;34m)\u001b[0m\u001b[0;34m\u001b[0m\u001b[0;34m\u001b[0m\u001b[0m\n",
      "\u001b[0;31mTypeError\u001b[0m: unsupported operand type(s) for +=: 'int' and 'str'"
     ]
    }
   ],
   "source": [
    "# Dynamic typing\n",
    "calculate_this = \"i like vegan pie lolol.\"\n",
    "\n",
    "# But strongly checked at runtime\n",
    "mean(calculate_this)"
   ]
  },
  {
   "cell_type": "markdown",
   "metadata": {},
   "source": [
    "Python isn't pell-mell about typing! Notice the error as well. The error explains that the function is trying to do some operation that the value doesn't support. The error may seem unclear at first, but you can get a sense of what's wrong by the final line which states `unsupported operand type(s) for +=: 'int' and 'str'`.\n",
    "\n",
    "We can add explicit error checks to functions to provide more information to the caller. "
   ]
  },
  {
   "cell_type": "code",
   "execution_count": 21,
   "metadata": {},
   "outputs": [
    {
     "ename": "TypeError",
     "evalue": "You need to pass in an iterable of numbers.",
     "output_type": "error",
     "traceback": [
      "\u001b[0;31m---------------------------------------------------------------------------\u001b[0m",
      "\u001b[0;31mTypeError\u001b[0m                                 Traceback (most recent call last)",
      "\u001b[0;32m/tmp/ipykernel_1106/4256787435.py\u001b[0m in \u001b[0;36m<module>\u001b[0;34m\u001b[0m\n\u001b[1;32m     30\u001b[0m     \u001b[0;32mreturn\u001b[0m \u001b[0msum_a\u001b[0m\u001b[0;34m/\u001b[0m\u001b[0mlen\u001b[0m\u001b[0;34m(\u001b[0m\u001b[0ma\u001b[0m\u001b[0;34m)\u001b[0m\u001b[0;34m\u001b[0m\u001b[0;34m\u001b[0m\u001b[0m\n\u001b[1;32m     31\u001b[0m \u001b[0;34m\u001b[0m\u001b[0m\n\u001b[0;32m---> 32\u001b[0;31m \u001b[0m_\u001b[0m \u001b[0;34m=\u001b[0m \u001b[0mmean\u001b[0m\u001b[0;34m(\u001b[0m\u001b[0;34m[\u001b[0m\u001b[0;34m\"Dark Souls\"\u001b[0m\u001b[0;34m,\u001b[0m \u001b[0;34m\"is a\"\u001b[0m\u001b[0;34m,\u001b[0m \u001b[0;34m\"great series.\"\u001b[0m\u001b[0;34m]\u001b[0m\u001b[0;34m)\u001b[0m\u001b[0;34m\u001b[0m\u001b[0;34m\u001b[0m\u001b[0m\n\u001b[0m",
      "\u001b[0;32m/tmp/ipykernel_1106/4256787435.py\u001b[0m in \u001b[0;36mmean\u001b[0;34m(a)\u001b[0m\n\u001b[1;32m     17\u001b[0m             \u001b[0;32mand\u001b[0m\u001b[0;34m\u001b[0m\u001b[0;34m\u001b[0m\u001b[0m\n\u001b[1;32m     18\u001b[0m             isinstance(a[0], (int, float))):\n\u001b[0;32m---> 19\u001b[0;31m         \u001b[0;32mraise\u001b[0m \u001b[0mTypeError\u001b[0m\u001b[0;34m(\u001b[0m\u001b[0;34m\"You need to pass in an iterable of numbers.\"\u001b[0m\u001b[0;34m)\u001b[0m\u001b[0;34m\u001b[0m\u001b[0;34m\u001b[0m\u001b[0m\n\u001b[0m\u001b[1;32m     20\u001b[0m \u001b[0;34m\u001b[0m\u001b[0m\n\u001b[1;32m     21\u001b[0m     \u001b[0;31m# Empty arrays cause division by zero.\u001b[0m\u001b[0;34m\u001b[0m\u001b[0;34m\u001b[0m\u001b[0m\n",
      "\u001b[0;31mTypeError\u001b[0m: You need to pass in an iterable of numbers."
     ]
    }
   ],
   "source": [
    "from array import array\n",
    "\n",
    "def mean(a):\n",
    "    \"\"\"Calculate the arithmetic mean of an iterable.\n",
    "\n",
    "    Parameters\n",
    "    ----------\n",
    "    a: Iterable\n",
    "        An Iterable of numbers.\n",
    "\n",
    "    Returns\n",
    "    -------\n",
    "    Mean of a as an integer or float.\n",
    "    \"\"\"\n",
    "    # Check for an iterable of numbers.\n",
    "    if not (isinstance(a, (list, array))\n",
    "            and\n",
    "            isinstance(a[0], (int, float))):\n",
    "        raise TypeError(\"You need to pass in an iterable of numbers.\")\n",
    "\n",
    "    # Empty arrays cause division by zero.\n",
    "    if not len(a):\n",
    "        raise ValueError(\"You can't calculate the mean of an empty array.\")\n",
    "\n",
    "    sum_a = 0\n",
    "\n",
    "    for x in a:\n",
    "        sum_a += x\n",
    "    \n",
    "    return sum_a/len(a)\n",
    "\n",
    "_ = mean([\"Dark Souls\", \"is a\", \"great series.\"])"
   ]
  },
  {
   "cell_type": "markdown",
   "metadata": {},
   "source": [
    "Some Pythonistas would argue that checking the type of `a` is superfluous. Python would raise an error anyway, and explicitly checking if an argument is a `list` could preclude a lot of other types due to duck typing. In other words, we don't really need a `list` explicitly when other iterables would work fine as well.\n",
    "\n",
    "Other Python code can raise exceptions. Uncaught exceptions bubble up the stack until they're either caught or crashes the program. Unhandled exceptions are fine if you can justify them. For example, crashing if the user running a script doesn't have permission to load a required file is probably fine.\n",
    "\n",
    "Catching exceptions, as you learned last class, requires wrapping code in `try-except-finally` blocks."
   ]
  },
  {
   "cell_type": "code",
   "execution_count": null,
   "metadata": {},
   "outputs": [],
   "source": [
    "import json\n",
    "\n",
    "poke_starters = {\n",
    "    \"grass\": [\"Bulbasaur\",\n",
    "              \"Chikorita\",\n",
    "              \"Treecko\"],\n",
    "    \"fire\": [\"Charmander\",\n",
    "             \"Cyndaquil\",\n",
    "             \"Torchic\"],\n",
    "    \"water\": [\"Squirtle\",\n",
    "              \"Totodile\",\n",
    "              \"Mudkip\"],\n",
    "    \"electric\": [\"Pikachu\"],\n",
    "    \"psychic\": [\"Espeon\"]\n",
    "}\n",
    "\n",
    "try:\n",
    "    with open(\"poke_starters.json\", 'w') as poke_json:\n",
    "        json.dump(poke_starters, poke_json)\n",
    "except OSError as e:\n",
    "    print(f\"Failed to write {e.filename}.\\nOS: {e.strerror}\")"
   ]
  },
  {
   "cell_type": "markdown",
   "metadata": {},
   "source": [
    "# Longer PokéAPI example\n",
    "\n",
    "Let's revisit the [Pokémon API](https://pokeapi.co/) example from last week.\n",
    "\n",
    "I designed this more as a script, but you shouldn't take it as the absolute best way to tackle this problem. The site lists several API implementations in different languages, including Python, that you should use instead.\n",
    "\n",
    "I dislike global variables, but I included them as a demonstration. Ideally, you'd refactor this code into a class instead."
   ]
  },
  {
   "cell_type": "code",
   "execution_count": null,
   "metadata": {},
   "outputs": [],
   "source": [
    "import io\n",
    "import matplotlib.pyplot as plt\n",
    "import json\n",
    "import time\n",
    "\n",
    "from requests import Session, HTTPError\n",
    "from IPython.display import display\n",
    "from PIL import Image\n",
    "\n",
    "POKEAPI = \"https://pokeapi.co/api/v2/pokemon/{}\"\n",
    "CACHE_PATH = \"pokeapi_cache.json\"\n",
    "THROTTLE = 30\n",
    "\n",
    "# Globals don't have to explicitly laid out like this but it looks cleaner.\n",
    "session = None\n",
    "poke_cache = None\n",
    "last_time = None\n",
    "\n",
    "def load_cache(path):\n",
    "    \"\"\"Create or load Pokémon API data cache.\n",
    "\n",
    "    Parameters\n",
    "    ----------\n",
    "    path: str\n",
    "        File path. Loads cached Pokémon API data as JSON if exists or else\n",
    "        creates a new file.\n",
    "    \"\"\"\n",
    "    global poke_cache\n",
    "    try:\n",
    "        with open(path, 'r') as cache:\n",
    "            poke_cache = json.load(cache)\n",
    "    except FileNotFoundError:\n",
    "        # Create an empty cache if the file doesn't exist.\n",
    "        # Also...just bubble up the rest of the errors.\n",
    "        poke_cache = {}\n",
    "\n",
    "def check_cache(pokenum):\n",
    "    \"\"\"Retrieve Pokémon data from cache if exists.\n",
    "\n",
    "    Parameters\n",
    "    ----------\n",
    "    pokenum: int\n",
    "        Pokémon number as integer.\n",
    "    \"\"\"\n",
    "    return poke_cache.get(pokenum)\n",
    "\n",
    "def update_cache(new_pokemon):\n",
    "    \"\"\"Update cache with new data.\n",
    "\n",
    "    Parameters\n",
    "    ----------\n",
    "    new_pokemon: Dict[int, Dict]\n",
    "        Dictionary of new Pokémon to add \n",
    "    \"\"\"\n",
    "    poke_cache.update(new_pokemon)\n",
    "\n",
    "def check_time():\n",
    "    \"\"\"Throttle requests.\n",
    "    \"\"\"\n",
    "    global last_time\n",
    "\n",
    "    # Check if thirty seconds has elapsed.\n",
    "    sleep_time = THROTTLE - (time.monotonic() - last_time)\n",
    "    if sleep_time > 0:\n",
    "        print(f\"Pausing for {sleep_time} seconds.\")\n",
    "        time.sleep(sleep_time)\n",
    "    # Update last_name to the current time.\n",
    "    last_time = time.monotonic()\n",
    "\n",
    "def create_url(pokenum):\n",
    "    \"\"\"Create a PokéAPI URL from a Pokémon number.\n",
    "\n",
    "    Parameters\n",
    "    ----------\n",
    "    pokenum: int\n",
    "        Pokémon number, such as 25 for Pikachu.\n",
    "    \n",
    "    Returns\n",
    "    -------\n",
    "    str\n",
    "        Formatted URL.\n",
    "    \"\"\"\n",
    "    return POKEAPI.format(pokenum)\n",
    "\n",
    "def init_scraper(path=CACHE_PATH):\n",
    "    \"\"\"Initialize all required scraper variables.\n",
    "\n",
    "    Parameters\n",
    "    ----------\n",
    "    path: str\n",
    "        Path to PokéAPI cache.\n",
    "    \"\"\"\n",
    "    global poke_cache\n",
    "    global session\n",
    "    global last_time\n",
    "\n",
    "    if not poke_cache:\n",
    "        load_cache(path)\n",
    "    if not session:\n",
    "        session = Session()\n",
    "    if not last_time:\n",
    "        last_time = time.monotonic()\n",
    "\n",
    "def get_pokemon(pokemon_nums, **kwargs):\n",
    "    \"\"\"Retrieve data for an Iterable of Pokédex numbers.\n",
    "\n",
    "    pokemon_nums: Iterable[int]\n",
    "        Pokédex numbers.\n",
    "    **kwargs:\n",
    "        Keyword arguments to pass down to request.\n",
    "    \n",
    "    Returns\n",
    "    -------\n",
    "    Dict[int, Dict[str, Any]]\n",
    "        Pokémon data.\n",
    "    \"\"\"\n",
    "    global session\n",
    "    pokedata = {}\n",
    "\n",
    "    for pokenum in pokemon_nums:\n",
    "        # Check if the Pokémon data exists in the cache\n",
    "        # instead of scraping again.\n",
    "        if data := check_cache(pokenum):\n",
    "            pokedata[pokenum] = data\n",
    "            continue\n",
    "\n",
    "        # Throttle to avoid spamming the API\n",
    "        check_time()\n",
    "        try:\n",
    "            url = create_url(pokenum)\n",
    "            resp = session.get(url, **kwargs)\n",
    "            # Raise an error for a non-200 HTTP status.\n",
    "            resp.raise_for_status()\n",
    "            resp = resp.json()\n",
    "            pokedata[pokenum] = resp\n",
    "            # Always update the cache if the request succeeded\n",
    "            update_cache({pokenum: resp})\n",
    "        except HTTPError as e:\n",
    "            print(f\"Got {e} for Pokémon number {pokenum}.\")\n",
    "    \n",
    "    return pokedata\n",
    "\n",
    "# Basic usage\n",
    "init_scraper()\n",
    "scrape_results = get_pokemon([54, 25, 300])"
   ]
  },
  {
   "cell_type": "markdown",
   "metadata": {},
   "source": [
    "[Next: Midterm review](https://github.com/joshuamegnauth54/data765-intro-python-tutoring/blob/main/notebooks/05-midterm_miscellanea.ipynb)"
   ]
  }
 ],
 "metadata": {
  "kernelspec": {
   "display_name": "Python 3",
   "language": "python",
   "name": "python3"
  },
  "language_info": {
   "codemirror_mode": {
    "name": "ipython",
    "version": 3
   },
   "file_extension": ".py",
   "mimetype": "text/x-python",
   "name": "python",
   "nbconvert_exporter": "python",
   "pygments_lexer": "ipython3",
   "version": "3.7.10"
  }
 },
 "nbformat": 4,
 "nbformat_minor": 2
}
