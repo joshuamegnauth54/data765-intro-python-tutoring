{
 "cells": [
  {
   "cell_type": "markdown",
   "id": "3ab29d5f",
   "metadata": {},
   "source": [
    "# Collections (data structures) basics\n",
    "### Data 765 tutoring\n",
    "\n",
    "Collections, or data structures, are ways of storing data. Like real life, computers need to store data in different ways depending on how that data should be accessed.\n",
    "\n",
    "In our real lives we may store papers in a small folder if we need easy access and order doesn't matter. A binder with tabs could be used if we needed to divide papers by subject such as Math, Science, Literature, et cetera.\n",
    "\n",
    "A binder or a folder is unsuitable for some objects. Unless you're weird, you probably wouldn't try to store a frying pan in a folder.\n",
    "\n",
    "Data structures in computers are analogous to real life storage structures in that we use different structures depending on what we need to accomplish. For example, a dictionary a.k.a. hash map allows linking keys to values. A `list` (vector) allows efficient access to random elements as well as easy tail end insertion of elements.\n",
    "\n",
    "Each data structure has limitations depending on your workload. A dresser in real life has the benefit of easy storage of a lot of clothes. However, digging to the bottom of a dresser is harder than pulling out a specific article from the top. In terms of programming, some data structures may be great at random access (lists/vectors) but slow at middle insertions.\n",
    "\n",
    "Some of these concepts aren't too important for data 765, but having a working understanding of different data structures will exponentially improve your programming. As programmers, even discounting data science, all we do is manipulate data in some way.\n",
    "\n",
    "# Lists (vectors)\n",
    "\n",
    "Python `list`s store arbitrary types sequentially. In other words, a `list` may hold integers, floats, different classes, other `list`s, `dict`s, or any other type desired. A `list` may consist of only a single type as well.\n",
    "\n",
    "Stuff in `list`s are referred to as \"elements.\"\n",
    "\n",
    "Lists are created with brackets, `[]`, the `list()` function, or comprehensions."
   ]
  },
  {
   "cell_type": "code",
   "execution_count": 1,
   "id": "75fc5807",
   "metadata": {},
   "outputs": [],
   "source": [
    "# All elements are strings\n",
    "animals = [\"cat\", \"giraffe\", \"bunny\", \"duck\", \"elephant\", \"dolphin\"]\n",
    "\n",
    "# Different types\n",
    "grabbag = [\"42\", 42, 42.]"
   ]
  },
  {
   "cell_type": "markdown",
   "id": "886bc370",
   "metadata": {},
   "source": [
    "Here's a more complex `list` that stores other collections.\n",
    "\n",
    "Internally, Python `list`s store pointers to `PyObject`s which allows us to store any type. Don't worry if that doesn't make sense. The gist of it is that a `list` doesn't store the actual object but a value that refers to where the object is located in memory. An example is if we had a real life list of addresses to houses; we don't have the actual houses in our pockets (unless you're a giant I guess) but instead the location of the houses.\n",
    "\n",
    "This concept will be more important when your class reaches [NumPy](https://numpy.org/) and [ndarrays](https://numpy.org/doc/stable/reference/arrays.ndarray.html)."
   ]
  },
  {
   "cell_type": "code",
   "execution_count": null,
   "id": "e4cde7fb",
   "metadata": {},
   "outputs": [],
   "source": [
    "bag_of_holding = []"
   ]
  },
  {
   "cell_type": "markdown",
   "id": "e7e9338c",
   "metadata": {},
   "source": [
    "## Indexing\n",
    "\n",
    "Like most programming languages, Python's `list` are indexed starting from 0 not 1 because of how array types are represented and accessed in memory.\n",
    "\n",
    "Valid index ranges are in the interval [0, n-1) where n is the length of the `list`. In other words, the **last valid index is len(your_list) - 1**. The final element of `animals` is 5 because there are six elements. You know, math. 🤓😸"
   ]
  },
  {
   "cell_type": "code",
   "execution_count": 2,
   "id": "f0f1383e",
   "metadata": {},
   "outputs": [
    {
     "name": "stdout",
     "output_type": "stream",
     "text": [
      "cat\n",
      "giraffe\n"
     ]
    }
   ],
   "source": [
    "print(animals[0])\n",
    "print(animals[1])"
   ]
  },
  {
   "cell_type": "markdown",
   "id": "a62d244f",
   "metadata": {},
   "source": [
    "Besides single element indexing, Python supports retrieving a range of elements through slicing. The [slice](https://docs.python.org/3/library/functions.html#slice) class is constructed with optional `start`, `stop`, and `stop` conditions. We usually don't have to construct an object directly as Python has [syntactic sugar](https://en.wikipedia.org/wiki/Syntactic_sugar) for slices.\n",
    "\n",
    "The parameters' default arguments are:\n",
    "* `start`: 0\n",
    "* `stop`: to the end of the sliced object\n",
    "* `step`: step by one element\n",
    "\n",
    "Let's retrieve \"giraffe\", \"bunny\", and \"duck\" using slices:"
   ]
  },
  {
   "cell_type": "code",
   "execution_count": 3,
   "id": "7d4a97de",
   "metadata": {},
   "outputs": [
    {
     "name": "stdout",
     "output_type": "stream",
     "text": [
      "['giraffe', 'bunny', 'duck']\n"
     ]
    }
   ],
   "source": [
    "best_friend_fav = animals[1:4]\n",
    "print(best_friend_fav)"
   ]
  },
  {
   "cell_type": "markdown",
   "id": "080ead21",
   "metadata": {},
   "source": [
    "I skipped the optional `step` parameter because \"giraffe\", \"bunny\", and \"duck\" are contiguous within the `list`.\n",
    "\n",
    "The zeroth element is a reference to \"cat\" while \"giraffe\" is at index 1. The second number in the slice is where indexing should stop. The element at index 4 isn't included because of the open interval. We're left with the three elements we sought as a `list`.\n",
    "\n",
    "As I mentioned above, `start` is an optional parameter. We may preclude passing an argument for `start` by leaving out the first number of the slice. In fact, each of the three parameters take their defaults if we leave them out in the slice. You'll learn more about default arguments later when the class reaches functions (my blog also covers it!)."
   ]
  },
  {
   "cell_type": "code",
   "execution_count": 4,
   "id": "cc32ab27",
   "metadata": {},
   "outputs": [
    {
     "data": {
      "text/plain": [
       "['cat', 'giraffe', 'bunny', 'duck']"
      ]
     },
     "execution_count": 4,
     "metadata": {},
     "output_type": "execute_result"
    }
   ],
   "source": [
    "animals[:4]"
   ]
  },
  {
   "cell_type": "markdown",
   "id": "3e44bec3",
   "metadata": {},
   "source": [
    "By leaving out the first and last numbers we're effectively creating a slice like so: `animals[0:4:1]`.\n",
    "\n",
    "What if we don't pass in any arguments?"
   ]
  },
  {
   "cell_type": "code",
   "execution_count": 2,
   "id": "e9dadf33",
   "metadata": {},
   "outputs": [
    {
     "data": {
      "text/plain": [
       "['cat', 'giraffe', 'bunny', 'duck', 'elephant', 'dolphin']"
      ]
     },
     "execution_count": 2,
     "metadata": {},
     "output_type": "execute_result"
    }
   ],
   "source": [
    "animals[:]"
   ]
  },
  {
   "cell_type": "markdown",
   "id": "94d940bd",
   "metadata": {},
   "source": [
    "The default arguments evaluate to slicing from the first to the last element without skipping any of them. In other words, slicing with only the default arguments is a shallow copy of the `list`.\n",
    "\n",
    "Indexing and slicing returns an element or elements. We can chain indexing for cleaner code."
   ]
  },
  {
   "cell_type": "code",
   "execution_count": 3,
   "id": "a1a4b532",
   "metadata": {},
   "outputs": [
    {
     "name": "stdout",
     "output_type": "stream",
     "text": [
      "c\n",
      "a\n"
     ]
    }
   ],
   "source": [
    "# Retrieve one element then index that element\n",
    "print(animals[0][0])\n",
    "\n",
    "# Retrieve multiple elements then index into the new list\n",
    "# and finally index into the string\n",
    "\n",
    "print(animals[:4][1][3])"
   ]
  },
  {
   "cell_type": "markdown",
   "id": "2415b2ed",
   "metadata": {},
   "source": [
    "`animals[0][0]` first indexes the `list` for the first element. The first element is a string, \"cat\", which in turn can be indexed. The first index of \"cat\" is 'c'.\n",
    "\n",
    "The second example looks more complex, but when you break it down it's similar to the first. `animals[:4]` retrieves the first four elements (0, 1, 2, and 3) as a `list`. The second index refers to the second element in that `list`, the string \"giraffe\". The final index pulls a character from that string which in this case is 'a'.\n",
    "\n",
    "The third number in slices is a skip value. For example, we can skip every other element by setting the third index to 2."
   ]
  },
  {
   "cell_type": "code",
   "execution_count": 5,
   "id": "f9d927f5",
   "metadata": {},
   "outputs": [
    {
     "data": {
      "text/plain": [
       "[0, 2, 4, 6, 8, 10, 12, 14, 16, 18, 20, 22, 24]"
      ]
     },
     "execution_count": 5,
     "metadata": {},
     "output_type": "execute_result"
    }
   ],
   "source": [
    "a = list(range(26))\n",
    "\n",
    "a[::2]"
   ]
  },
  {
   "cell_type": "markdown",
   "id": "50ae1b84",
   "metadata": {},
   "source": [
    "As an aside, [range](https://docs.python.org/3/library/functions.html#func-range) objects are constructed similarly to slices. `range(1, 15, 2)` creates a range object that spans from 1 through 14 while skipping by 2. `range` objects are _not_ `list`s. They're sequences that must be consumed into a collection or iterated over. The code above consumes `range(26)` by creating a `list`.\n",
    "\n",
    "## Mutating `list`s\n",
    "\n",
    "Python's `list` is mutable. We can modify our actual `list` by appending and removing elements."
   ]
  },
  {
   "cell_type": "code",
   "execution_count": 6,
   "id": "d293a3b7",
   "metadata": {},
   "outputs": [
    {
     "data": {
      "text/plain": [
       "['cat', 'giraffe', 'bunny', 'duck', 'elephant', 'dolphin', 'hamster']"
      ]
     },
     "execution_count": 6,
     "metadata": {},
     "output_type": "execute_result"
    }
   ],
   "source": [
    "animals.append(\"hamster\")\n",
    "\n",
    "animals"
   ]
  },
  {
   "cell_type": "markdown",
   "id": "566ef0fc",
   "metadata": {},
   "source": [
    "`lists` implement a lot of useful methods which you [may find here](https://docs.python.org/3/tutorial/datastructures.html)."
   ]
  }
 ],
 "metadata": {
  "kernelspec": {
   "display_name": "Python 3",
   "language": "python",
   "name": "python3"
  },
  "language_info": {
   "codemirror_mode": {
    "name": "ipython",
    "version": 3
   },
   "file_extension": ".py",
   "mimetype": "text/x-python",
   "name": "python",
   "nbconvert_exporter": "python",
   "pygments_lexer": "ipython3",
   "version": "3.7.10"
  }
 },
 "nbformat": 4,
 "nbformat_minor": 5
}
