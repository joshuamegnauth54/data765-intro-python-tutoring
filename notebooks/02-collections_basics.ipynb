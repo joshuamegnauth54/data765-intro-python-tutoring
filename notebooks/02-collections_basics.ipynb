{
 "cells": [
  {
   "cell_type": "markdown",
   "id": "3ab29d5f",
   "metadata": {},
   "source": [
    "# Collections (data structures) basics\n",
    "### Data 765 tutoring\n",
    "\n",
    "Collections, or data structures, are ways of storing data. Like real life, computers need to store data in different ways depending on how that data should be accessed.\n",
    "\n",
    "In our real lives we may store papers in a small folder if we need easy access and order doesn't matter. A binder with tabs could be used if we needed to divide papers by subject such as Math, Science, Literature, et cetera.\n",
    "\n",
    "A binder or a folder is unsuitable for some objects. Unless you're weird, you probably wouldn't try to store a frying pan in a folder.\n",
    "\n",
    "Data structures in computers are analogous to real life storage structures in that we use different structures depending on what we need to accomplish. For example, a dictionary a.k.a. hash map allows linking keys to values. A `list` (vector) allows efficient access to random elements as well as easy tail end insertion of elements.\n",
    "\n",
    "Each data structure has limitations depending on your workload. A dresser in real life has the benefit of easy storage of a lot of clothes. However, digging to the bottom of a dresser is harder than pulling out a specific article from the top. In terms of programming, some data structures may be great at random access (lists/vectors) but slow at middle insertions.\n",
    "\n",
    "Some of these concepts aren't too important for data 765, but having a working understanding of different data structures will exponentially improve your programming. As programmers, even discounting data science, all we do is manipulate data in some way.\n",
    "\n",
    "# Lists (vectors)\n"
   ]
  }
 ],
 "metadata": {
  "kernelspec": {
   "display_name": "Python 3",
   "language": "python",
   "name": "python3"
  },
  "language_info": {
   "codemirror_mode": {
    "name": "ipython",
    "version": 3
   },
   "file_extension": ".py",
   "mimetype": "text/x-python",
   "name": "python",
   "nbconvert_exporter": "python",
   "pygments_lexer": "ipython3",
   "version": "3.7.10"
  }
 },
 "nbformat": 4,
 "nbformat_minor": 5
}
