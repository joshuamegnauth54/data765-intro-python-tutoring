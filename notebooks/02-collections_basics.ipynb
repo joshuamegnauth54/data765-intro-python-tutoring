{
 "cells": [
  {
   "cell_type": "markdown",
   "id": "3ab29d5f",
   "metadata": {},
   "source": [
    "# Collections (data structures) basics\n",
    "### Data 765 tutoring\n",
    "\n",
    "Collections, or data structures, are ways of storing data. Like real life, computers need to store data in different ways depending on how that data should be accessed.\n",
    "\n",
    "In our real lives we may store papers in a small folder if we need easy access and order doesn't matter. A binder with tabs could be used if we needed to divide papers by subject such as Math, Science, Literature, et cetera.\n",
    "\n",
    "A binder or a folder is unsuitable for some objects. Unless you're weird, you probably wouldn't try to store a frying pan in a folder.\n",
    "\n",
    "Data structures in computers are analogous to real life storage structures in that we use different structures depending on what we need to accomplish. For example, a dictionary a.k.a. hash map allows linking keys to values. A `list` (vector) allows efficient access to random elements as well as easy tail end insertion of elements.\n",
    "\n",
    "Each data structure has limitations depending on your workload. A dresser in real life has the benefit of easy storage of a lot of clothes. However, digging to the bottom of a dresser is harder than pulling out a specific article from the top. In terms of programming, some data structures may be great at random access (lists/vectors) but slow at middle insertions.\n",
    "\n",
    "Some of these concepts aren't too important for data 765, but having a working understanding of different data structures will exponentially improve your programming. As programmers, even discounting data science, all we do is manipulate data in some way.\n",
    "\n",
    "# Lists (vectors)\n",
    "\n",
    "Python `list`s store arbitrary types sequentially. In other words, a `list` may hold integers, floats, different classes, other `list`s, `dict`s, or any other type desired. A `list` may consist of only a single type as well.\n",
    "\n",
    "Stuff in `list`s are referred to as \"elements.\"\n",
    "\n",
    "Lists are created with brackets, `[]`, the `list()` function, or comprehensions."
   ]
  },
  {
   "cell_type": "code",
   "execution_count": 1,
   "id": "75fc5807",
   "metadata": {},
   "outputs": [],
   "source": [
    "# All elements are strings\n",
    "animals = [\"cat\", \"giraffe\", \"bunny\", \"duck\", \"elephant\", \"dolphin\"]\n",
    "\n",
    "# Different types\n",
    "grabbag = [\"42\", 42, 42.]"
   ]
  },
  {
   "cell_type": "markdown",
   "id": "886bc370",
   "metadata": {},
   "source": [
    "Here's a more complex `list` that stores other collections.\n",
    "\n",
    "Internally, Python `list`s store pointers to `PyObject`s which allows us to store any type. Don't worry if that doesn't make sense. The gist of it is that a `list` doesn't store the actual object but a value that refers to where the object is located in memory. An example is if we had a real life list of addresses to houses; we don't have the actual houses in our pockets (unless you're a giant I guess) but instead the location of the houses.\n",
    "\n",
    "This concept will be more important when your class reaches [NumPy](https://numpy.org/) and [ndarrays](https://numpy.org/doc/stable/reference/arrays.ndarray.html)."
   ]
  },
  {
   "cell_type": "code",
   "execution_count": null,
   "id": "e4cde7fb",
   "metadata": {},
   "outputs": [],
   "source": [
    "bag_of_holding = []"
   ]
  },
  {
   "cell_type": "markdown",
   "id": "e7e9338c",
   "metadata": {},
   "source": [
    "## Indexing\n",
    "\n",
    "Like most programming languages, Python's `list` are indexed starting from 0 not 1 because of how array types are represented and accessed in memory.\n",
    "\n",
    "Valid index ranges are in the interval [0, n-1) where n is the length of the `list`. In other words, the **last valid index is len(your_list) - 1**. The final element of `animals` is 5 because there are six elements. You know, math. 🤓😸"
   ]
  },
  {
   "cell_type": "code",
   "execution_count": 2,
   "id": "f0f1383e",
   "metadata": {},
   "outputs": [
    {
     "name": "stdout",
     "output_type": "stream",
     "text": [
      "cat\n",
      "giraffe\n"
     ]
    }
   ],
   "source": [
    "print(animals[0])\n",
    "print(animals[1])"
   ]
  },
  {
   "cell_type": "markdown",
   "id": "a62d244f",
   "metadata": {},
   "source": [
    "Besides single element indexing, Python supports retrieving a range of elements through slicing. The [slice](https://docs.python.org/3/library/functions.html#slice) class is constructed with optional `start`, `stop`, and `stop` conditions. We usually don't have to construct an object directly as Python has [syntactic sugar](https://en.wikipedia.org/wiki/Syntactic_sugar) for slices.\n",
    "\n",
    "The parameters' default arguments are:\n",
    "* `start`: 0\n",
    "* `stop`: to the end of the sliced object\n",
    "* `step`: step by one element\n",
    "\n",
    "Let's retrieve \"giraffe\", \"bunny\", and \"duck\" using slices:"
   ]
  },
  {
   "cell_type": "code",
   "execution_count": 3,
   "id": "7d4a97de",
   "metadata": {},
   "outputs": [
    {
     "name": "stdout",
     "output_type": "stream",
     "text": [
      "['giraffe', 'bunny', 'duck']\n"
     ]
    }
   ],
   "source": [
    "best_friend_fav = animals[1:4]\n",
    "print(best_friend_fav)"
   ]
  },
  {
   "cell_type": "markdown",
   "id": "080ead21",
   "metadata": {},
   "source": [
    "I skipped the optional `step` parameter because \"giraffe\", \"bunny\", and \"duck\" are contiguous within the `list`.\n",
    "\n",
    "The zeroth element is a reference to \"cat\" while \"giraffe\" is at index 1. The second number in the slice is where indexing should stop. The element at index 4 isn't included because of the open interval. We're left with the three elements we sought as a `list`.\n",
    "\n",
    "As I mentioned above, `start` is an optional parameter. We may preclude passing an argument for `start` by leaving out the first number of the slice. In fact, each of the three parameters take their defaults if we leave them out in the slice. You'll learn more about default arguments later when the class reaches functions (my blog also covers it!)."
   ]
  },
  {
   "cell_type": "code",
   "execution_count": 4,
   "id": "cc32ab27",
   "metadata": {},
   "outputs": [
    {
     "data": {
      "text/plain": [
       "['cat', 'giraffe', 'bunny', 'duck']"
      ]
     },
     "execution_count": 4,
     "metadata": {},
     "output_type": "execute_result"
    }
   ],
   "source": [
    "animals[:4]"
   ]
  },
  {
   "cell_type": "markdown",
   "id": "3e44bec3",
   "metadata": {},
   "source": [
    "By leaving out the first and last numbers we're effectively creating a slice like so: `animals[0:4:1]`.\n",
    "\n",
    "What if we don't pass in any arguments?"
   ]
  },
  {
   "cell_type": "code",
   "execution_count": 5,
   "id": "e9dadf33",
   "metadata": {},
   "outputs": [
    {
     "data": {
      "text/plain": [
       "['cat', 'giraffe', 'bunny', 'duck', 'elephant', 'dolphin']"
      ]
     },
     "execution_count": 5,
     "metadata": {},
     "output_type": "execute_result"
    }
   ],
   "source": [
    "animals[:]"
   ]
  },
  {
   "cell_type": "markdown",
   "id": "94d940bd",
   "metadata": {},
   "source": [
    "The default arguments evaluate to slicing from the first to the last element without skipping any of them. In other words, slicing with only the default arguments is a shallow copy of the `list`.\n",
    "\n",
    "Indexing and slicing returns an element or elements. We can chain indexing for cleaner code."
   ]
  },
  {
   "cell_type": "code",
   "execution_count": 6,
   "id": "a1a4b532",
   "metadata": {},
   "outputs": [
    {
     "name": "stdout",
     "output_type": "stream",
     "text": [
      "c\n",
      "a\n"
     ]
    }
   ],
   "source": [
    "# Retrieve one element then index that element\n",
    "print(animals[0][0])\n",
    "\n",
    "# Retrieve multiple elements then index into the new list\n",
    "# and finally index into the string\n",
    "\n",
    "print(animals[:4][1][3])"
   ]
  },
  {
   "cell_type": "markdown",
   "id": "2415b2ed",
   "metadata": {},
   "source": [
    "`animals[0][0]` first indexes the `list` for the first element. The first element is a string, \"cat\", which in turn can be indexed. The first index of \"cat\" is 'c'.\n",
    "\n",
    "The second example looks more complex, but when you break it down it's similar to the first. `animals[:4]` retrieves the first four elements (0, 1, 2, and 3) as a `list`. The second index refers to the second element in that `list`, the string \"giraffe\". The final index pulls a character from that string which in this case is 'a'.\n",
    "\n",
    "**Understanding this concept is crucial for nested data structures!**\n",
    "\n",
    "Finally, let's look at the last argument for slice objects. The third number in slices is a skip value. For example, we can skip every other element by setting the third index to 2."
   ]
  },
  {
   "cell_type": "code",
   "execution_count": 7,
   "id": "f9d927f5",
   "metadata": {},
   "outputs": [
    {
     "data": {
      "text/plain": [
       "[0, 2, 4, 6, 8, 10, 12, 14, 16, 18, 20, 22, 24]"
      ]
     },
     "execution_count": 7,
     "metadata": {},
     "output_type": "execute_result"
    }
   ],
   "source": [
    "a = list(range(26))\n",
    "\n",
    "a[::2]"
   ]
  },
  {
   "cell_type": "markdown",
   "id": "50ae1b84",
   "metadata": {},
   "source": [
    "As an aside, [range](https://docs.python.org/3/library/functions.html#func-range) objects are constructed similarly to slices. `range(1, 15, 2)` creates a range object that spans from 1 through 14 while skipping by 2. `range` objects are _not_ `list`s. They're sequences that must be consumed into a collection or iterated over. The code above consumes `range(26)` by creating a `list`.\n",
    "\n",
    "## Mutating `list`s\n",
    "\n",
    "Python's `list` is mutable. We can modify our actual `list` by appending and removing elements."
   ]
  },
  {
   "cell_type": "code",
   "execution_count": 8,
   "id": "d293a3b7",
   "metadata": {},
   "outputs": [
    {
     "data": {
      "text/plain": [
       "['cat', 'giraffe', 'bunny', 'duck', 'elephant', 'dolphin', 'hamster']"
      ]
     },
     "execution_count": 8,
     "metadata": {},
     "output_type": "execute_result"
    }
   ],
   "source": [
    "animals.append(\"hamster\")\n",
    "\n",
    "animals"
   ]
  },
  {
   "cell_type": "markdown",
   "id": "566ef0fc",
   "metadata": {},
   "source": [
    "`lists` implement a lot of useful methods which you [may find here](https://docs.python.org/3/tutorial/datastructures.html). You shouldn't try to explicitly memorize the names of functions. `list`s or vectors are common data structures which always support a common set of operations such as pushing (appending), popping (removing the last element), or inserting elements among others.\n",
    "\n",
    "**Question:** We have a `list`, `one_hundred` that only contains the numbers 1 through 50 because one of our colleagues totally screwed up. We want to extend that `list` with a second `list` that contains numbers 51 through 100. **Look at the link above to find which method allows us to easily accomplish this task.** "
   ]
  },
  {
   "cell_type": "code",
   "execution_count": null,
   "id": "52386f12",
   "metadata": {},
   "outputs": [],
   "source": [
    "# Ahh, we're missing numbers!\n",
    "one_hundred = list(range(1, 51))\n",
    "fifty = list(range(FILL_IN, FILL_IN))\n",
    "\n",
    "one_hundred.____\n",
    "\n",
    "one_hundred[-10:]"
   ]
  },
  {
   "cell_type": "markdown",
   "id": "5ecce7e0",
   "metadata": {},
   "source": [
    "Notice that the `one_hundred` itself was modified which is different from string functions which return a new string as we saw last time. Strings are immutable but `list`s are mutable!\n",
    "\n",
    "## Nested `list`s\n",
    "Now let's look at nested `list`s or `list` of `list`s. Nested `list`s usually confuse newbie programmers whether they're learning arrays or vectors in another language or `list`s in Python."
   ]
  },
  {
   "cell_type": "code",
   "execution_count": 9,
   "id": "337adc32",
   "metadata": {},
   "outputs": [],
   "source": [
    "nested = [[1, 2, 3],\n",
    "         [4, 5, 6],\n",
    "         [7, 8, 9],\n",
    "         [10, 11, 12],\n",
    "         [13, 14, 15]]"
   ]
  },
  {
   "cell_type": "markdown",
   "id": "5a73d36b",
   "metadata": {},
   "source": [
    "😵‍ <-- Accurate representation of newbies encountering nested vectors. The key to understanding nested data structures is to understand what you're selecting per index.\n",
    "\n",
    "For example, earlier I sliced the first four elements of the `animals` `list`. That returned a `list` which I indexed again for a string which was finally indexed for a single character.\n",
    "\n",
    "Look at `nested` above. What are the elements of the `list`?\n",
    "\n",
    "Each element of `nested` is a `list`."
   ]
  },
  {
   "cell_type": "code",
   "execution_count": 10,
   "id": "a3edaa51",
   "metadata": {},
   "outputs": [
    {
     "data": {
      "text/plain": [
       "[7, 8, 9]"
      ]
     },
     "execution_count": 10,
     "metadata": {},
     "output_type": "execute_result"
    }
   ],
   "source": [
    "nested[2]"
   ]
  },
  {
   "cell_type": "markdown",
   "id": "194481cf",
   "metadata": {},
   "source": [
    "Each `list` in `nested` contains an integer."
   ]
  },
  {
   "cell_type": "code",
   "execution_count": 11,
   "id": "6b3b2f25",
   "metadata": {},
   "outputs": [
    {
     "data": {
      "text/plain": [
       "14"
      ]
     },
     "execution_count": 11,
     "metadata": {},
     "output_type": "execute_result"
    }
   ],
   "source": [
    "nested[4][1]"
   ]
  },
  {
   "cell_type": "markdown",
   "id": "71f3dac7",
   "metadata": {},
   "source": [
    "Multi-indexing selects dimensions until we reach the final layer. Another way to think of a 2D array or `list` is that they have y and x coordinates. A 3D array has a z axis.\n",
    "\n",
    "The first index into `nested` selects the y coordinate. You can see this in how I defined `nested`: selecting a `list` is selecting the \"height\" or y coordinate. The second index selects a number or the x coordinate.\n",
    "\n",
    "Yet another way to think of nested arrays is to think of rows and columns."
   ]
  },
  {
   "cell_type": "code",
   "execution_count": 12,
   "id": "6709d804",
   "metadata": {},
   "outputs": [],
   "source": [
    "sales_data = [[\"name\", \"last_visit\", \"last_spent_usd\", \"total_visits\"],\n",
    "              [\"Bob\", \"2020-08-27\", 52., 6],\n",
    "              [\"Alice\", \"2019-01-17\", 13.4, 2],\n",
    "              [\"Jeff\", \"2021-02-14\", 0., 1]]"
   ]
  },
  {
   "cell_type": "markdown",
   "id": "404c1fc8",
   "metadata": {},
   "source": [
    "Row 0 selects the column names while row 2 is Alice's row."
   ]
  },
  {
   "cell_type": "code",
   "execution_count": 13,
   "id": "0d552e2c",
   "metadata": {},
   "outputs": [
    {
     "data": {
      "text/plain": [
       "13.4"
      ]
     },
     "execution_count": 13,
     "metadata": {},
     "output_type": "execute_result"
    }
   ],
   "source": [
    "sales_data[2][2]"
   ]
  },
  {
   "cell_type": "markdown",
   "id": "209fc3a1",
   "metadata": {},
   "source": [
    "The above selects row 2 (Alice) and column 2 (last spent) which is 13.4 for Alice.\n",
    "\n",
    "## Negative indexing\n",
    "\n",
    "Negative indices traverse backward. Unlike positive indexing, negative indexing doesn't have a 0."
   ]
  },
  {
   "cell_type": "code",
   "execution_count": 14,
   "id": "d20688ae",
   "metadata": {},
   "outputs": [
    {
     "data": {
      "text/plain": [
       "10"
      ]
     },
     "execution_count": 14,
     "metadata": {},
     "output_type": "execute_result"
    }
   ],
   "source": [
    "ten = list(range(11))\n",
    "\n",
    "ten[-1]"
   ]
  },
  {
   "cell_type": "markdown",
   "id": "886b2edb",
   "metadata": {},
   "source": [
    "Negative indexes span from -1 to -`list` length because there isn't a zero."
   ]
  },
  {
   "cell_type": "code",
   "execution_count": 15,
   "id": "cec7471f",
   "metadata": {},
   "outputs": [
    {
     "data": {
      "text/plain": [
       "0"
      ]
     },
     "execution_count": 15,
     "metadata": {},
     "output_type": "execute_result"
    }
   ],
   "source": [
    "ten[-11]"
   ]
  },
  {
   "cell_type": "markdown",
   "id": "0bd3b29e",
   "metadata": {},
   "source": [
    "# Dictionaries\n",
    "\n",
    "Dictionaries are commonly called hash maps in other programming languages. Both the terms \"dictionary\" as well as \"hash map\" are helpful in grokking `dict`s.\n",
    "\n",
    "Dictionaries **associate a key to a value.** Keys must be immutable whereas values can be anything (more on that in a bit)."
   ]
  },
  {
   "cell_type": "code",
   "execution_count": 16,
   "id": "d12e72da",
   "metadata": {},
   "outputs": [
    {
     "name": "stdout",
     "output_type": "stream",
     "text": [
      "Espeon's Pokédex number is 196.\n",
      "Psyduck's Pokédex number is 54.\n"
     ]
    }
   ],
   "source": [
    "from pprint import pprint\n",
    "\n",
    "pokemon = {\"Espeon\": 196,\n",
    "           \"Psyduck\": 54}\n",
    "\n",
    "print(f\"Espeon's Pokédex number is {pokemon['Espeon']}.\")\n",
    "print(f\"Psyduck's Pokédex number is {pokemon['Psyduck']}.\")"
   ]
  },
  {
   "cell_type": "markdown",
   "id": "fb5205a5",
   "metadata": {},
   "source": [
    "Dictionary values don't have to be immutable."
   ]
  },
  {
   "cell_type": "code",
   "execution_count": 17,
   "id": "4b7536ff",
   "metadata": {},
   "outputs": [
    {
     "name": "stdout",
     "output_type": "stream",
     "text": [
      "Mudkip\n"
     ]
    }
   ],
   "source": [
    "# Not listing all of them :)\n",
    "poke_starters = {\n",
    "    \"grass\": [\"Bulbasaur\",\n",
    "              \"Chikorita\",\n",
    "              \"Treecko\"],\n",
    "    \"fire\": [\"Charmander\",\n",
    "             \"Cyndaquil\",\n",
    "             \"Torchic\"],\n",
    "    \"water\": [\"Squirtle\",\n",
    "              \"Totodile\",\n",
    "              \"Mudkip\"],\n",
    "    \"electric\": [\"Pikachu\"],\n",
    "    \"psychic\": [\"Espeon\"]\n",
    "}\n",
    "\n",
    "# My brother and I liked Mudkip before it was cool!\n",
    "print(poke_starters[\"water\"][-1])"
   ]
  },
  {
   "cell_type": "markdown",
   "id": "470cfef5",
   "metadata": {},
   "source": [
    "Another example:"
   ]
  },
  {
   "cell_type": "code",
   "execution_count": 18,
   "id": "440a5ac3",
   "metadata": {},
   "outputs": [],
   "source": [
    "poke_gen_starters = {\n",
    "    1: {\"grass\": \"Bulbasaur\",\n",
    "        \"fire\": \"Charmander\",\n",
    "        \"water\": \"Squirtle\"},\n",
    "    2: {\"grass\": \"Chikorita\",\n",
    "        \"fire\": \"Cyndaquil\",\n",
    "        \"water\": \"Totodile\"},\n",
    "    3: {\"grass\": \"Treecko\",\n",
    "        \"fire\": \"Torchic\",\n",
    "        \"water\": \"Mudkip\"}\n",
    "}"
   ]
  },
  {
   "cell_type": "markdown",
   "id": "b44bb986",
   "metadata": {},
   "source": [
    "How would you select \"Mudkip\" from that dictionary? What about \"Charmander\"?"
   ]
  },
  {
   "cell_type": "code",
   "execution_count": null,
   "id": "7954e9f8",
   "metadata": {},
   "outputs": [],
   "source": [
    "mudkip = ____\n",
    "print(mudkip)\n",
    "\n",
    "charmander = ____\n",
    "print(charmander)"
   ]
  },
  {
   "cell_type": "markdown",
   "id": "9ddb9091",
   "metadata": {},
   "source": [
    "## Dictionary keys and immutability\n",
    "\n",
    "Dictionary keys are hashed. Hash functions convert an input into a unique number barring collisions."
   ]
  },
  {
   "cell_type": "code",
   "execution_count": 19,
   "id": "683a3330",
   "metadata": {},
   "outputs": [
    {
     "name": "stdout",
     "output_type": "stream",
     "text": [
      "Hash of 'Josh': -6575638810052098016\n",
      "Hash of 'Josh': -6575638810052098016\n",
      "Hash of 'Josh': -6575638810052098016\n",
      "Hash of 'josh': -2440793445161333046\n",
      "Hash of 'josh': -2440793445161333046\n",
      "Hash of 'josh': -2440793445161333046\n"
     ]
    }
   ],
   "source": [
    "print(f\"Hash of 'Josh': {hash('Josh')}\")\n",
    "print(f\"Hash of 'Josh': {hash('Josh')}\")\n",
    "print(f\"Hash of 'Josh': {hash('Josh')}\")\n",
    "\n",
    "print(f\"Hash of 'josh': {hash('josh')}\")\n",
    "print(f\"Hash of 'josh': {hash('josh')}\")\n",
    "print(f\"Hash of 'josh': {hash('josh')}\")"
   ]
  },
  {
   "cell_type": "markdown",
   "id": "fcfbfea3",
   "metadata": {},
   "source": [
    "Keys are hashed to efficiently allow mapping keys to values. Hashes must be unique. Imagine if \"Josh\" and \"cat\" returned the same hash. A dictionary that included both \"Josh\" and \"cat\" would return the same value.\n",
    "\n",
    "Hashes are only valid on immutable types because a mutable type would cause the hash to change. For example, if strings were mutable and we changed \"Josh\" to \"josh\" then the hash would change as well.\n",
    "\n",
    "Dictionaries themselves are mutable, so we can add new keys and values as we wish."
   ]
  },
  {
   "cell_type": "code",
   "execution_count": 20,
   "id": "f30eec41",
   "metadata": {},
   "outputs": [
    {
     "name": "stdout",
     "output_type": "stream",
     "text": [
      "{'Drampa': 780, 'Espeon': 196, 'Psyduck': 54}\n"
     ]
    }
   ],
   "source": [
    "pokemon[\"Drampa\"] = 780\n",
    "pprint(pokemon)"
   ]
  },
  {
   "cell_type": "markdown",
   "id": "09547526",
   "metadata": {},
   "source": [
    "Nested dictionaries require retrieving the value and then updating that value. So, for example, let's add to the water starters in the second dictionary."
   ]
  },
  {
   "cell_type": "code",
   "execution_count": 21,
   "id": "db900d17",
   "metadata": {},
   "outputs": [
    {
     "name": "stdout",
     "output_type": "stream",
     "text": [
      "{'electric': ['Pikachu'],\n",
      " 'fire': ['Charmander', 'Cyndaquil', 'Torchic'],\n",
      " 'grass': ['Bulbasaur', 'Chikorita', 'Treecko'],\n",
      " 'psychic': ['Espeon'],\n",
      " 'water': ['Squirtle', 'Totodile', 'Mudkip', 'Piplup']}\n"
     ]
    }
   ],
   "source": [
    "poke_starters[\"water\"].append(\"Piplup\")\n",
    "pprint(poke_starters)"
   ]
  },
  {
   "cell_type": "markdown",
   "id": "009b458d",
   "metadata": {},
   "source": [
    "`poke_starters[\"water\"]` retrieves the `list` of water starters on which I called the `append()` method."
   ]
  },
  {
   "cell_type": "markdown",
   "id": "9a863af3",
   "metadata": {},
   "source": [
    "# Tuples\n",
    "\n",
    "Tuples are immutable sequences. We usually encounter them via functions that return multiple objects that we can unpack into separate variables. Tuples will be more useful later, but for now recognizing them as well as recognizing unpacking is enough. Tuples are also hashable if they contain all immutable types which means they can be used as dictionary keys as well."
   ]
  },
  {
   "cell_type": "code",
   "execution_count": 22,
   "id": "486059e8",
   "metadata": {},
   "outputs": [
    {
     "name": "stdout",
     "output_type": "stream",
     "text": [
      "Psyduck(#54) is a Water type Pokémon.\n"
     ]
    }
   ],
   "source": [
    "# A tuple\n",
    "psyduck = (\"Psyduck\", \"Water\", 54)\n",
    "\n",
    "# Unpacking the tuple\n",
    "poke_name, poke_type, poke_num = psyduck\n",
    "\n",
    "print(f\"{poke_name}(#{poke_num}) is a {poke_type} type Pokémon.\")"
   ]
  },
  {
   "cell_type": "markdown",
   "id": "58bdf079",
   "metadata": {},
   "source": [
    "# Python built in functions and collections\n",
    "\n",
    "[Built in functions](https://docs.python.org/3/library/functions.html)\n",
    "\n",
    "Idiomatic Python makes use of built in functions such as `sum()`, `sorted()`, or `max()`."
   ]
  },
  {
   "cell_type": "code",
   "execution_count": 23,
   "id": "fb870a63",
   "metadata": {},
   "outputs": [
    {
     "name": "stdout",
     "output_type": "stream",
     "text": [
      "[82, 15, 4, 95, 36, 32, 29, 18, 95, 14]\n",
      "Max value: 95\n",
      "Min value: 4\n"
     ]
    }
   ],
   "source": [
    "import random\n",
    "\n",
    "random.seed(42)\n",
    "random_ints = [random.randint(1, 100) for _ in range(10)]\n",
    "\n",
    "print(random_ints)\n",
    "print(f\"Max value: {max(random_ints)}\")\n",
    "print(f\"Min value: {min(random_ints)}\")"
   ]
  },
  {
   "cell_type": "markdown",
   "id": "6b37f2ad",
   "metadata": {},
   "source": [
    "## Questions\n",
    "\n",
    "1. Select Jeff's \"total_visits\" by indexing `sales_data`"
   ]
  },
  {
   "cell_type": "code",
   "execution_count": null,
   "id": "116a4317",
   "metadata": {},
   "outputs": [],
   "source": [
    "sales_data[_][_]"
   ]
  },
  {
   "cell_type": "markdown",
   "id": "449c2cb8",
   "metadata": {},
   "source": [
    "2. Insert the missing number using a `list` method (check the link!)"
   ]
  },
  {
   "cell_type": "code",
   "execution_count": null,
   "id": "9b53345f",
   "metadata": {},
   "outputs": [],
   "source": [
    "missing = [1, 3, 4, 5, 6]\n",
    "\n",
    "missing.___\n",
    "\n",
    "missing"
   ]
  },
  {
   "cell_type": "markdown",
   "id": "41c0a72b",
   "metadata": {},
   "source": [
    "3. Actually, I don't like the `missing` `list` anymore. Which function clears the `list`?"
   ]
  },
  {
   "cell_type": "code",
   "execution_count": null,
   "id": "07e3e631",
   "metadata": {},
   "outputs": [],
   "source": [
    "missing.____\n",
    "\n",
    "missing"
   ]
  },
  {
   "cell_type": "markdown",
   "id": "10a9201f",
   "metadata": {},
   "source": [
    "3. Let's add new starters to `poke_starters`! Add \"Turtwig\" to the grass `list` in the dictionary and \"Chimchar\" to the fire `list`."
   ]
  },
  {
   "cell_type": "code",
   "execution_count": null,
   "id": "2861f81e",
   "metadata": {},
   "outputs": [],
   "source": [
    "# Turtwig\n",
    "poke_starters[___].___\n",
    "\n",
    "# Chimchar\n",
    "____"
   ]
  },
  {
   "cell_type": "markdown",
   "id": "0ec1fae7",
   "metadata": {},
   "source": [
    "4. Are `list`s mutable or immutable? Based on this, can we use `list`s as **keys** for dictionaries?\n",
    "5. Calculate the mean of `random_ints`. Hint: Look at the built in functions. You need two different functions.\n",
    "\n",
    "(As an aside, the standard library has a `mean()` function and you can use that if you figure it out.)\n",
    "\n",
    "$\\bar{x} = \\frac{\\sum{x_i}}{N}$"
   ]
  },
  {
   "cell_type": "code",
   "execution_count": null,
   "id": "45abfb97",
   "metadata": {},
   "outputs": [],
   "source": [
    "____/____"
   ]
  },
  {
   "cell_type": "markdown",
   "id": "dfab7e8e",
   "metadata": {},
   "source": [
    "6. Add generation 4's starters to `poke_gen_starters`.\n",
    "\n",
    "Turtwig = Grass\n",
    "Chimchar = Fire\n",
    "Piplup = Water"
   ]
  },
  {
   "cell_type": "code",
   "execution_count": null,
   "id": "3230811e",
   "metadata": {},
   "outputs": [],
   "source": [
    "# Ignore this line\n",
    "poke_gen_starters[4] = {}\n",
    "\n",
    "poke_gen_starters[___][___] = ____"
   ]
  }
 ],
 "metadata": {
  "kernelspec": {
   "display_name": "Python 3",
   "language": "python",
   "name": "python3"
  },
  "language_info": {
   "codemirror_mode": {
    "name": "ipython",
    "version": 3
   },
   "file_extension": ".py",
   "mimetype": "text/x-python",
   "name": "python",
   "nbconvert_exporter": "python",
   "pygments_lexer": "ipython3",
   "version": "3.7.10"
  }
 },
 "nbformat": 4,
 "nbformat_minor": 5
}
