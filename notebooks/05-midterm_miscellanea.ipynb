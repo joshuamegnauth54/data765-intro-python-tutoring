{
 "cells": [
  {
   "cell_type": "markdown",
   "id": "dbd0658a",
   "metadata": {},
   "source": [
    "# Midterm miscellanea\n",
    "## Data 765 tutoring\n",
    "\n",
    "You have a midterm! Uh, I guess there's not much more to say in terms of an introduction.\n",
    "\n",
    "# Control flow (iteration and branching)\n",
    "\n",
    "## Explain, write, or fix the following loops"
   ]
  },
  {
   "cell_type": "code",
   "execution_count": null,
   "id": "dd237c91",
   "metadata": {},
   "outputs": [],
   "source": [
    "coordinates = []\n",
    "\n",
    "for x in range(25):\n",
    "    coordinates.append([])\n",
    "    for y in range(10):\n",
    "        coordinates[x].append([])\n",
    "        for z in range(5):\n",
    "            coordinates[x][y].append(z)"
   ]
  },
  {
   "cell_type": "markdown",
   "id": "cc800cf3",
   "metadata": {},
   "source": [
    "What's wrong with this loop?\n",
    "\n",
    "**Hint**: Three issues.\n",
    "\n",
    "Would a `for` loop be better here?"
   ]
  },
  {
   "cell_type": "code",
   "execution_count": null,
   "id": "a71b0ab2",
   "metadata": {},
   "outputs": [],
   "source": [
    "animals = [\"cat\", \"giraffe\", \"duck\", \"rabbit\"]\n",
    "i = 0\n",
    "while i <= len(animals):\n",
    "    print(animals[0]) "
   ]
  },
  {
   "cell_type": "markdown",
   "id": "bba4f85b",
   "metadata": {},
   "source": [
    "## Guessing game\n",
    "\n",
    "Fill out the guessing game below. Guesses higher than the `target` should print \"Too high\" or something similar. Guesses lower than `target` should print \"Too low.\" Correct guesses should end the loop.\n",
    "\n",
    "Users may input garbage values such as strings. You need a `try` block  to catch and consume `ValueError`s. You can allow other errors to bubble up unless you have a better way of handling them."
   ]
  },
  {
   "cell_type": "code",
   "execution_count": null,
   "id": "7a7088fa",
   "metadata": {},
   "outputs": [],
   "source": [
    "import random\n",
    "\n",
    "def guessing_game(low=0, high=10):\n",
    "    \"\"\"A guessing game!\n",
    "\n",
    "    Parameters\n",
    "    ----------\n",
    "    low: int\n",
    "        Lower range of the guessing game. Must be < high.\n",
    "    high: int\n",
    "        Upper range of the guessing game.\n",
    "    \"\"\"\n",
    "    if low > high:\n",
    "        raise ValueError(f\"{low} > {high}; lower bounds higher than upper.\")\n",
    "    # Generate a random number\n",
    "    # See: https://docs.python.org/3/library/random.html\n",
    "    target = random.randrange(low, high)\n",
    "\n",
    "    # The := or walrus operator is new, and you don't have to know it.\n",
    "    # := allows assigning to variables in the middle of an expression.\n",
    "    # The variable guess is scoped within the while loop, but it's also\n",
    "    # evaluated as the while loop's condition. As a result, empty strings\n",
    "    # would automatically break the while loop because they're falsey\n",
    "    # while non-empty strings would continue the loop. The result is elegant.\n",
    "    while guess := input(f\"Guess a number between {low} and {high}: \"):\n",
    "        # Check for invalid input that cannot be coerced to integers.\n",
    "        ____:\n",
    "            # Convert guess to an integer from a string.\n",
    "            guess = int(guess)\n",
    "\n",
    "            ____ ____ ____ ____:\n",
    "                ____\n",
    "            ____ ____ ____ ____:\n",
    "                print(\"Too low!\")\n",
    "            else:\n",
    "                print(f\"Correct! The number is {target}\")\n",
    "                ____\n",
    "        ____ ValueError:\n",
    "            pass\n",
    "\n",
    "guessing_game()"
   ]
  },
  {
   "cell_type": "markdown",
   "id": "e2b35ffc",
   "metadata": {},
   "source": [
    "## Complete the `if` statements\n",
    "\n",
    "## Age Gate\n",
    "\n",
    "Write a small age gate function that checks if a person is allowed to watch a movie or purchase a video game.\n",
    "\n",
    "Instead of the ESRB, we'll just have three maturity checks: \"adults\", \"teens\", and \"kids.\"\n",
    "\n",
    "* \"adults\": Only people >= 18 are granted access.\n",
    "* \"teens\": Only people >= 13 are granted access.\n",
    "* \"kids\": Everyone has access.\n",
    "\n",
    "Invalid ages (i.e. < 0) or ratings should raise a `ValueError`.\n",
    "\n",
    "`age_gate` should be declared with two parameters, one for `age` and another for `rating`, a string."
   ]
  },
  {
   "cell_type": "code",
   "execution_count": null,
   "id": "c1bd8b24",
   "metadata": {},
   "outputs": [],
   "source": [
    "def age_gate(age, rating):\n",
    "    pass\n",
    "\n",
    "def age_gate_test():\n",
    "    # This would be better with a fuzzer\n",
    "    msg = \"Test failed with age: {} and rating: {}\"\n",
    "    assert age_gate(18, \"kids\"), msg.format(18, \"kids\")\n",
    "    assert not age_gate(10, \"adults\"), msg.format(10, \"adults\")\n",
    "    assert age_gate(7, \"kids\"), msg.format(7, \"kids\")\n",
    "    assert age_gate(13, \"teens\"), msg.format(13, \"teens\")\n",
    "    assert age_gate(13, \"adults\"), msg.format(13, \"adults\")\n",
    "\n",
    "    # Invalid cases\n",
    "    valueerror_msg = \"ValueError not raised when expected.\"\n",
    "    try:\n",
    "        bad_return = age_gate(-1, \"kids\")\n",
    "        assert bad_return and not bad_return, valueerror_msg\n",
    "    except ValueError:\n",
    "        pass\n",
    "\n",
    "    try:\n",
    "        bad_return = age_gate(26, \"meow\")\n",
    "        assert bad_return and not bad_return, valueerror_msg\n",
    "    except ValueError:\n",
    "        pass\n",
    "    \n",
    "\n",
    "age_gate_test()"
   ]
  },
  {
   "cell_type": "markdown",
   "id": "f7b62de8",
   "metadata": {},
   "source": [
    "## Flat iter\n",
    "\n",
    "Complete the if statement below. The function should check if the element is an `Iterable`.\n",
    "\n",
    "**Note:** You don't need to understand `yield` or `yield from` in order to complete the loop.\n",
    "\n",
    "However, for those of you who are curious, `yield` is for generators. `yield` pauses the execution of a function and returns a value. The use case for this is to generate values without creating all of the values at once and holding them in memory. Instead, `yield` allows you you to create values when requested. `range()` is something like a generator which is why `list(range())` for a loop is wrong."
   ]
  },
  {
   "cell_type": "code",
   "execution_count": null,
   "id": "e28a7c39",
   "metadata": {},
   "outputs": [],
   "source": [
    "from collections.abc import Iterable\n",
    "\n",
    "def flat_iter(iterator):\n",
    "    \"\"\"Return elements over arbitrarily nested iterables.\n",
    "    \n",
    "    Parameters\n",
    "    ----------\n",
    "    iterator: Iterable\n",
    "        Iterator; may be nested.\n",
    "\n",
    "    Yields\n",
    "    ------\n",
    "    Consecutive elements of an iterator.\n",
    "    \"\"\"\n",
    "\n",
    "    for element in iterator:\n",
    "        ____ ____(____, ____):\n",
    "            yield from flat_iter(element)\n",
    "        else:\n",
    "            yield element\n"
   ]
  },
  {
   "cell_type": "markdown",
   "id": "d9fd103b",
   "metadata": {},
   "source": [
    "How would you test `flat_iter()`?\n",
    "\n",
    "What would the following code output? Hint: Read the docstring. "
   ]
  },
  {
   "cell_type": "code",
   "execution_count": null,
   "id": "7a585345",
   "metadata": {},
   "outputs": [],
   "source": [
    "nested = [1, 2, [3], [14], [42, 56, 70, [84, 98]]]\n",
    "\n",
    "for x in flat_iter(nested):\n",
    "    print(x, end=' ')"
   ]
  },
  {
   "cell_type": "markdown",
   "id": "08269159",
   "metadata": {},
   "source": [
    "What would the code snippet below print?"
   ]
  },
  {
   "cell_type": "code",
   "execution_count": null,
   "id": "6aadaa89",
   "metadata": {},
   "outputs": [],
   "source": [
    "max_nested = max(flat_iter([[[list(range(1000))]]]))\n",
    "\n",
    "print(max_nested)"
   ]
  },
  {
   "cell_type": "markdown",
   "id": "e22e9d4f",
   "metadata": {},
   "source": [
    "Complete the function below by filling out the `for` loop. You don't need to know RegEx in order to complete the loop."
   ]
  },
  {
   "cell_type": "code",
   "execution_count": null,
   "id": "528470e8",
   "metadata": {},
   "outputs": [],
   "source": [
    "import re\n",
    "\n",
    "fake_tweets = [\"#cats are amazing!!!!!!!!!!!111111111111111\",\n",
    "               \"Everyone loves castst #cats #kitty #meow\",\n",
    "               \"I just spent $50000 onCHOCOLATE!! #yum\",\n",
    "               \"ppl say recrusion is divine but its rly just a headache #programming\",\n",
    "               \"Python is better than R #python #rlang\"\n",
    "               ]\n",
    "\n",
    "def hashtags(tweets):\n",
    "    \"\"\"Pull out hashtags from Tweets.\n",
    "\n",
    "    Parameters\n",
    "    ----------\n",
    "    tweets: Iterable[str]\n",
    "        Iterable of Tweets as strings.\n",
    "\n",
    "    Return\n",
    "    ------\n",
    "    List[str]\n",
    "        Hashtags\n",
    "    \"\"\"\n",
    "    octothorpes = []\n",
    "    pattern = r\"(#[\\w\\d]+)\"\n",
    "\n",
    "    for ____ in ____:\n",
    "        ____.____(re.findall(pattern, tweet))\n",
    "    \n",
    "    return octothorpes\n",
    "\n",
    "hashtags(fake_tweets)"
   ]
  },
  {
   "cell_type": "markdown",
   "id": "4dfe510e",
   "metadata": {},
   "source": [
    "Which data structure is _better_ than a `list` here if we're only concerned about **unique hashtags**?"
   ]
  },
  {
   "cell_type": "markdown",
   "id": "de43112e",
   "metadata": {},
   "source": [
    "# Standard library\n",
    "\n",
    "Python's standard library contains modules for basic data structures, higher level function tools, statistics, sockets, and many more. Python is often called \"batteries included\" because of its standard library. You should be familiar with the basic data types as well common data structure operations. For example, you should know that you can append, extend, and remove elements from a `list`. You should understand what a dictionary is and when you'd use one over a `list`.\n",
    "\n",
    "[Python's standard library](https://docs.python.org/3/library/)\n",
    "\n",
    "[Python's built-in functions](https://docs.python.org/3/library/functions.html)\n",
    "\n",
    "[List methods](https://docs.python.org/3/tutorial/datastructures.html#more-on-lists)\n",
    "\n",
    "[Dictionary methods](https://docs.python.org/3/tutorial/datastructures.html#dictionaries)\n",
    "\n",
    "[String methods](https://docs.python.org/3/library/string.html)\n",
    "\n",
    "## Mean function\n",
    "\n",
    "$\\bar{X} = \\frac{\\sum_{i = 0}^{N} X_i}{N}$\n",
    "\n",
    "Write a function to calculate a mean using built in functions. Raise a `ValueError` if the input is empty."
   ]
  },
  {
   "cell_type": "code",
   "execution_count": null,
   "id": "426be59c",
   "metadata": {},
   "outputs": [],
   "source": []
  },
  {
   "cell_type": "markdown",
   "id": "2daba2f1",
   "metadata": {},
   "source": [
    "Are these strings equal? Why or why not?"
   ]
  },
  {
   "cell_type": "code",
   "execution_count": null,
   "id": "167d1e37",
   "metadata": {},
   "outputs": [],
   "source": [
    "# First\n",
    "\"cat\" == \"Cat\"\n",
    "\n",
    "# Second\n",
    "\"cat \" == \"cat\""
   ]
  },
  {
   "cell_type": "markdown",
   "id": "ee405d97",
   "metadata": {},
   "source": [
    "Would this expression evaluate to `True` or `False`?"
   ]
  },
  {
   "cell_type": "code",
   "execution_count": null,
   "id": "22dddfe3",
   "metadata": {},
   "outputs": [],
   "source": [
    "\".\" and \"cat\".upper() == \"CAT\".lower() == \"cat\".upper() or not False"
   ]
  },
  {
   "cell_type": "markdown",
   "id": "d6fa2077",
   "metadata": {},
   "source": [
    "Capitalize and remove whitespace from this string using string methods."
   ]
  },
  {
   "cell_type": "code",
   "execution_count": null,
   "id": "fc5cf0ec",
   "metadata": {},
   "outputs": [],
   "source": [
    "id_soft = (\"the communities for Doom 1 & 2 and the Quakes are still flourishing \"\n",
    "           \"decades after release because their engines are open source  \")"
   ]
  },
  {
   "cell_type": "markdown",
   "id": "78d982c5",
   "metadata": {},
   "source": [
    "What are the contents of the two `list`s below? Why?"
   ]
  },
  {
   "cell_type": "code",
   "execution_count": null,
   "id": "03ed094e",
   "metadata": {},
   "outputs": [],
   "source": [
    "animals = [\"cat\", \"giraffe\"]\n",
    "more_animals = animals\n",
    "\n",
    "animals.append(\"duck\")"
   ]
  },
  {
   "cell_type": "markdown",
   "id": "a0eb29e8",
   "metadata": {},
   "source": [
    "What about these two `list`s? Why?"
   ]
  },
  {
   "cell_type": "code",
   "execution_count": null,
   "id": "f0cfcdfc",
   "metadata": {},
   "outputs": [],
   "source": [
    "pokemon = [[\"Espeon\", \"Psyduck\"]]\n",
    "more_pokemon = pokemon[0].copy()\n",
    "\n",
    "more_pokemon.extend([\"Drampa\", \"Skitty\"])"
   ]
  },
  {
   "cell_type": "markdown",
   "id": "ad1164d7",
   "metadata": {},
   "source": [
    "Why can't we use `list`s as dictionary keys? What does this say about `list`s? In other words, why is this illegal?"
   ]
  },
  {
   "cell_type": "code",
   "execution_count": null,
   "id": "b653682f",
   "metadata": {},
   "outputs": [],
   "source": [
    "broken_map = {\n",
    "    [\"Espeon\",\n",
    "     \"Umbreon\"]: [\"Eeveelution\", \"Gen2\", \"Cat\", \"Dog\"]\n",
    "}"
   ]
  },
  {
   "cell_type": "markdown",
   "id": "a4eef057",
   "metadata": {},
   "source": [
    "Why do we need `if ch in chain_iter` in the code below?"
   ]
  },
  {
   "cell_type": "code",
   "execution_count": 1,
   "id": "57b33cdf",
   "metadata": {},
   "outputs": [
    {
     "data": {
      "text/plain": [
       "{'e': 30,\n",
       " 'c': 10,\n",
       " 's': 22,\n",
       " ',': 4,\n",
       " ' ': 42,\n",
       " 'o': 16,\n",
       " 'r': 18,\n",
       " 'n': 18,\n",
       " 't': 19,\n",
       " 'i': 19,\n",
       " 'y': 5,\n",
       " '-': 3,\n",
       " 'm': 17,\n",
       " 'p': 6,\n",
       " 'g': 9,\n",
       " 'a': 19,\n",
       " 'd': 7,\n",
       " 'l': 7,\n",
       " 'v': 2,\n",
       " '.': 5,\n",
       " 'u': 5,\n",
       " 'k': 2,\n",
       " 'f': 5,\n",
       " 'b': 3,\n",
       " \"'\": 1,\n",
       " 'h': 1,\n",
       " 'w': 1}"
      ]
     },
     "execution_count": 1,
     "metadata": {},
     "output_type": "execute_result"
    }
   ],
   "source": [
    "import itertools\n",
    "\n",
    "engines_one = \"ECS, or entity-component-system, game engines are designed to leverage SIMD and MIMD.\"\n",
    "engines_two = \"Unlike OOP, ECS is closer to functional programming.\"\n",
    "engines_three = \"ECS may seem more abstract at first, but ultimately ECS is great for performance.\"\n",
    "engines_four = \"NumPy's benefits are similar to ECS. This is known as data-driven programming.\"\n",
    "\n",
    "def count(iterable):\n",
    "    \"\"\"Count unicode characters.\n",
    "    \n",
    "    Parameters\n",
    "    ----------\n",
    "    iterable: Iterable[str]\n",
    "        Iterable of strings from which to count chars.\n",
    "    \n",
    "    Return\n",
    "    ------\n",
    "    dict[str, int]\n",
    "        Dictionary of counts.\n",
    "    \"\"\"\n",
    "    chain_iter = map(lambda ch: ch.lower(),\n",
    "                     itertools.chain.from_iterable(iterable))\n",
    "\n",
    "    counts = {}\n",
    "    for ch in chain_iter:\n",
    "        ch_count = counts.get(ch)\n",
    "        counts[ch] = ch_count + 1 if ch_count else 1\n",
    "    return counts\n",
    "\n",
    "count([engines_one, engines_two, engines_three, engines_four])"
   ]
  },
  {
   "cell_type": "markdown",
   "id": "57012759",
   "metadata": {},
   "source": [
    "I'm legally required to mention that a [defaultdict](https://docs.python.org/3/library/collections.html#collections.defaultdict) is better here. Generally, you should check the standard library or well maintained external libraries before you implement your own solutions. The logic is similar as to why you'd write functions instead of copying and pasting code. Libraries (a.k.a. packages) will be covered in class after the midterm.\n",
    "\n",
    "[Next: Web APIs (optional)](https://github.com/joshuamegnauth54/data765-intro-python-tutoring/blob/main/notebooks/06-scraping_extra.ipynb)"
   ]
  }
 ],
 "metadata": {
  "kernelspec": {
   "display_name": "Python 3",
   "language": "python",
   "name": "python3"
  },
  "language_info": {
   "codemirror_mode": {
    "name": "ipython",
    "version": 3
   },
   "file_extension": ".py",
   "mimetype": "text/x-python",
   "name": "python",
   "nbconvert_exporter": "python",
   "pygments_lexer": "ipython3",
   "version": "3.7.10"
  }
 },
 "nbformat": 4,
 "nbformat_minor": 5
}
