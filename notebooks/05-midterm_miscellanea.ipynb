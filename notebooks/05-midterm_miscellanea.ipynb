{
 "cells": [
  {
   "cell_type": "markdown",
   "id": "dbd0658a",
   "metadata": {},
   "source": [
    "# Midterm miscellanea\n",
    "## Data 765 tutoring\n",
    "\n",
    "You have a midterm! Uh, I guess there's not much more to say in terms of an introduction.\n",
    "\n",
    "# Control flow (iteration and branching)\n",
    "\n",
    "## Explain the following loops"
   ]
  },
  {
   "cell_type": "code",
   "execution_count": null,
   "id": "e38a6111",
   "metadata": {},
   "outputs": [],
   "source": []
  },
  {
   "cell_type": "code",
   "execution_count": 5,
   "id": "dd237c91",
   "metadata": {},
   "outputs": [],
   "source": [
    "coordinates = []\n",
    "\n",
    "for x in range(25):\n",
    "    coordinates.append([])\n",
    "    for y in range(10):\n",
    "        coordinates[x].append([])\n",
    "        for z in range(5):\n",
    "            coordinates[x][y].append(z)"
   ]
  },
  {
   "cell_type": "markdown",
   "id": "e2b35ffc",
   "metadata": {},
   "source": [
    "## Complete the `if` statements\n",
    "\n",
    "## Age Gate\n",
    "\n",
    "Write a small age gate function that checks if a person is allowed to watch a movie or purchase a video game."
   ]
  },
  {
   "cell_type": "code",
   "execution_count": null,
   "id": "c1bd8b24",
   "metadata": {},
   "outputs": [],
   "source": []
  },
  {
   "cell_type": "markdown",
   "id": "f7b62de8",
   "metadata": {},
   "source": [
    "## Flat iter\n",
    "\n",
    "Complete the if statement below. The function should check if the element is an `Iterable`. You don't need to understand `yield` or `yield from` in order to complete the loop."
   ]
  },
  {
   "cell_type": "code",
   "execution_count": null,
   "id": "e28a7c39",
   "metadata": {},
   "outputs": [],
   "source": [
    "from collections.abc import Iterable\n",
    "\n",
    "def flat_iter(iterator):\n",
    "    \"\"\"Return elements over arbitrarily nested iterables.\n",
    "    \n",
    "    Parameters\n",
    "    ----------\n",
    "    iterator: Iterable\n",
    "        Iterator; may be nested.\n",
    "\n",
    "    Yields\n",
    "    ------\n",
    "    Consecutive elements of an iterator.\n",
    "    \"\"\"\n",
    "\n",
    "    for element in iterator:\n",
    "        ____ ____(____, ____):\n",
    "            yield from flat_iter(element)\n",
    "        else:\n",
    "            yield element\n"
   ]
  },
  {
   "cell_type": "markdown",
   "id": "d9fd103b",
   "metadata": {},
   "source": [
    "How would you test `flat_iter()`?\n",
    "\n",
    "What would the following code output? Hint: Read the docstring. "
   ]
  },
  {
   "cell_type": "code",
   "execution_count": null,
   "id": "7a585345",
   "metadata": {},
   "outputs": [],
   "source": [
    "nested = [1, 2, [3], [14], [42, 56, 70, [84, 98]]]\n",
    "\n",
    "for x in flat_iter(nested):\n",
    "    print(x, end=' ')"
   ]
  },
  {
   "cell_type": "markdown",
   "id": "08269159",
   "metadata": {},
   "source": [
    "What would the code snippet below print?"
   ]
  },
  {
   "cell_type": "code",
   "execution_count": null,
   "id": "6aadaa89",
   "metadata": {},
   "outputs": [],
   "source": [
    "max_nested = max(flat_iter([[[list(range(1000))]]]))\n",
    "\n",
    "print(max_nested)"
   ]
  },
  {
   "cell_type": "markdown",
   "id": "e22e9d4f",
   "metadata": {},
   "source": [
    "Complete the function below by filling out the `for` loop. You don't need to know RegEx in order to complete the loop."
   ]
  },
  {
   "cell_type": "code",
   "execution_count": null,
   "id": "528470e8",
   "metadata": {},
   "outputs": [],
   "source": [
    "import re\n",
    "\n",
    "fake_tweets = [\"#cats are amazing!!!!!!!!!!!111111111111111\",\n",
    "               \"Everyone loves castst #cats #kitty #meow\",\n",
    "               \"I just spent $50000 onCHOCOLATE!! #yum\",\n",
    "               \"ppl say recrusion is divine but its rly just a headache #programming\",\n",
    "               \"Python is better than R #python #rlang\"\n",
    "               ]\n",
    "\n",
    "def hashtags(tweets):\n",
    "    \"\"\"Pull out hashtags from Tweets.\n",
    "\n",
    "    Parameters\n",
    "    ----------\n",
    "    tweets: Iterable[str]\n",
    "        Iterable of Tweets as strings.\n",
    "\n",
    "    Return\n",
    "    ------\n",
    "    List[str]\n",
    "        Hashtags\n",
    "    \"\"\"\n",
    "    octothorpes = []\n",
    "    pattern = r\"(#[\\w\\d]+)\"\n",
    "\n",
    "    for ____ in ____:\n",
    "        ____.____(re.findall(pattern, tweet))\n",
    "    \n",
    "    return octothorpes\n",
    "\n",
    "hashtags(fake_tweets)"
   ]
  },
  {
   "cell_type": "markdown",
   "id": "4dfe510e",
   "metadata": {},
   "source": [
    "Which data structure is _better_ than a `list` here if we're only concerned about **unique hashtags**?"
   ]
  },
  {
   "cell_type": "markdown",
   "id": "de43112e",
   "metadata": {},
   "source": [
    "# Standard library\n",
    "\n",
    "Python's standard library contains modules for basic data structures, higher level function tools, statistics, sockets, and many more. Python is often called \"batteries included\" because of its standard library. You should be familiar with the basic data types as well common data structure operations. For example, you should know that you can append, extend, and remove elements from a `list`. You should understand what a dictionary is and when you'd use one over a `list`.\n",
    "\n",
    "[Python's standard library](https://docs.python.org/3/library/)\n",
    "\n",
    "[Python's built-in functions](https://docs.python.org/3/library/functions.html)\n",
    "\n",
    "[List methods](https://docs.python.org/3/tutorial/datastructures.html#more-on-lists)\n",
    "\n",
    "[Dictionary methods](https://docs.python.org/3/tutorial/datastructures.html#dictionaries)\n",
    "\n",
    "## Mean function\n",
    "\n",
    "$\\bar{X} = \\frac{\\sum_{i = 0}^{N} X_i}{N}$\n",
    "\n",
    "Write a function to calculate a mean using built in functions. Raise a `ValueError` if the input is empty."
   ]
  },
  {
   "cell_type": "code",
   "execution_count": null,
   "id": "426be59c",
   "metadata": {},
   "outputs": [],
   "source": []
  },
  {
   "cell_type": "markdown",
   "id": "2daba2f1",
   "metadata": {},
   "source": [
    "Why are these strings unequal?"
   ]
  },
  {
   "cell_type": "code",
   "execution_count": null,
   "id": "167d1e37",
   "metadata": {},
   "outputs": [],
   "source": [
    "# First\n",
    "\"cat\" == \"Cat\"\n",
    "\n",
    "# Second\n",
    "\"cat \" == \"cat\""
   ]
  },
  {
   "cell_type": "markdown",
   "id": "d6fa2077",
   "metadata": {},
   "source": [
    "Capitalize and remove whitespace from this string using string methods."
   ]
  },
  {
   "cell_type": "code",
   "execution_count": null,
   "id": "fc5cf0ec",
   "metadata": {},
   "outputs": [],
   "source": [
    "id_soft = (\"the communities for Doom 1 & 2 and the Quakes are still flourishing \"\n",
    "           \"decades after release because their engines are open source  \")"
   ]
  }
 ],
 "metadata": {
  "kernelspec": {
   "display_name": "Python 3",
   "language": "python",
   "name": "python3"
  },
  "language_info": {
   "codemirror_mode": {
    "name": "ipython",
    "version": 3
   },
   "file_extension": ".py",
   "mimetype": "text/x-python",
   "name": "python",
   "nbconvert_exporter": "python",
   "pygments_lexer": "ipython3",
   "version": "3.7.10"
  }
 },
 "nbformat": 4,
 "nbformat_minor": 5
}
