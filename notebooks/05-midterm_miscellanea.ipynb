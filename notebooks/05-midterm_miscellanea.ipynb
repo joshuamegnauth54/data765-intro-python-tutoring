{
 "cells": [
  {
   "cell_type": "markdown",
   "id": "2800bbff",
   "metadata": {},
   "source": [
    "# Midterm miscellanea\n",
    "## Data 765 tutoring\n",
    "\n",
    "You have a midterm! Uh, I guess there's not much more to say in terms of an introduction.\n",
    "\n",
    "# Iteration\n",
    "\n",
    "Programming, like maths and the sciences, is immune to memorization. You shouldn't try to memorize every function or action over understanding concepts in general. In other words, you should understand how iteration or `if` statements work rather than attempting to memorize every different situation where you've seen a loop. Understanding concepts in general is more stable than memorization and far more stable than trying to look up how to solve a question during the test."
   ]
  },
  {
   "cell_type": "code",
   "execution_count": null,
   "id": "309cf5fc",
   "metadata": {},
   "outputs": [],
   "source": []
  },
  {
   "cell_type": "markdown",
   "id": "a47af879",
   "metadata": {},
   "source": [
    "# Built-in functions\n",
    "\n",
    "[Python's built-in functions](https://docs.python.org/3/library/functions.html)"
   ]
  }
 ],
 "metadata": {
  "kernelspec": {
   "display_name": "Python 3",
   "language": "python",
   "name": "python3"
  },
  "language_info": {
   "codemirror_mode": {
    "name": "ipython",
    "version": 3
   },
   "file_extension": ".py",
   "mimetype": "text/x-python",
   "name": "python",
   "nbconvert_exporter": "python",
   "pygments_lexer": "ipython3",
   "version": "3.7.10"
  }
 },
 "nbformat": 4,
 "nbformat_minor": 5
}
